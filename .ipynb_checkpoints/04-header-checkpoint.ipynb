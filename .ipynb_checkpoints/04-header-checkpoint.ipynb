{
 "cells": [
  {
   "cell_type": "markdown",
   "id": "1c08f0dd-7043-48ea-b657-5098e84d43b4",
   "metadata": {},
   "source": [
    "# Header Manipulation"
   ]
  },
  {
   "cell_type": "markdown",
   "id": "2d966378-2999-4fba-aec7-dda729be32f2",
   "metadata": {},
   "source": [
    "## Import pandas"
   ]
  },
  {
   "cell_type": "code",
   "execution_count": 1,
   "id": "39bde19e-9ff9-4bde-8c66-7fc4a82266f2",
   "metadata": {},
   "outputs": [],
   "source": [
    "import pandas as pd\n",
    "import numpy as np"
   ]
  },
  {
   "cell_type": "markdown",
   "id": "7fd84112-233c-4371-badd-993d9c201c9a",
   "metadata": {},
   "source": [
    "## Load Data"
   ]
  },
  {
   "cell_type": "code",
   "execution_count": 2,
   "id": "e945add8-bd40-42f2-98a0-55673acc2ca7",
   "metadata": {},
   "outputs": [
    {
     "data": {
      "text/html": [
       "<div>\n",
       "<style scoped>\n",
       "    .dataframe tbody tr th:only-of-type {\n",
       "        vertical-align: middle;\n",
       "    }\n",
       "\n",
       "    .dataframe tbody tr th {\n",
       "        vertical-align: top;\n",
       "    }\n",
       "\n",
       "    .dataframe thead th {\n",
       "        text-align: right;\n",
       "    }\n",
       "</style>\n",
       "<table border=\"1\" class=\"dataframe\">\n",
       "  <thead>\n",
       "    <tr style=\"text-align: right;\">\n",
       "      <th></th>\n",
       "      <th>Index</th>\n",
       "      <th>Organization Id</th>\n",
       "      <th>Name</th>\n",
       "      <th>Website</th>\n",
       "      <th>Country</th>\n",
       "      <th>Description</th>\n",
       "      <th>Founded</th>\n",
       "      <th>Industry</th>\n",
       "      <th>Number of employees</th>\n",
       "    </tr>\n",
       "  </thead>\n",
       "  <tbody>\n",
       "    <tr>\n",
       "      <th>0</th>\n",
       "      <td>1</td>\n",
       "      <td>8cC6B5992C0309c</td>\n",
       "      <td>Acevedo LLC</td>\n",
       "      <td>https://www.donovan.com/</td>\n",
       "      <td>Holy See (Vatican City State)</td>\n",
       "      <td>Multi-channeled bottom-line core</td>\n",
       "      <td>2019</td>\n",
       "      <td>Graphic Design / Web Design</td>\n",
       "      <td>7070</td>\n",
       "    </tr>\n",
       "    <tr>\n",
       "      <th>1</th>\n",
       "      <td>2</td>\n",
       "      <td>ec094061FeaF7Bc</td>\n",
       "      <td>Walls-Mcdonald</td>\n",
       "      <td>http://arias-willis.net/</td>\n",
       "      <td>Lithuania</td>\n",
       "      <td>Compatible encompassing groupware</td>\n",
       "      <td>2005</td>\n",
       "      <td>Utilities</td>\n",
       "      <td>8156</td>\n",
       "    </tr>\n",
       "    <tr>\n",
       "      <th>2</th>\n",
       "      <td>3</td>\n",
       "      <td>DAcC5dbc58946A7</td>\n",
       "      <td>Gregory PLC</td>\n",
       "      <td>http://www.lynch-hoover.net/</td>\n",
       "      <td>Tokelau</td>\n",
       "      <td>Multi-channeled intangible help-desk</td>\n",
       "      <td>2019</td>\n",
       "      <td>Leisure / Travel</td>\n",
       "      <td>6121</td>\n",
       "    </tr>\n",
       "    <tr>\n",
       "      <th>3</th>\n",
       "      <td>4</td>\n",
       "      <td>8Dd7beDa37FbeD0</td>\n",
       "      <td>Byrd, Patterson and Knox</td>\n",
       "      <td>https://www.james-velez.net/</td>\n",
       "      <td>Netherlands</td>\n",
       "      <td>Pre-emptive national function</td>\n",
       "      <td>1982</td>\n",
       "      <td>Furniture</td>\n",
       "      <td>3494</td>\n",
       "    </tr>\n",
       "    <tr>\n",
       "      <th>4</th>\n",
       "      <td>5</td>\n",
       "      <td>a3b5c54AEC163e4</td>\n",
       "      <td>Mcdowell-Hopkins</td>\n",
       "      <td>http://fuentes.com/</td>\n",
       "      <td>Mayotte</td>\n",
       "      <td>Cloned bifurcated solution</td>\n",
       "      <td>2016</td>\n",
       "      <td>Online Publishing</td>\n",
       "      <td>36</td>\n",
       "    </tr>\n",
       "  </tbody>\n",
       "</table>\n",
       "</div>"
      ],
      "text/plain": [
       "   Index  Organization Id                      Name  \\\n",
       "0      1  8cC6B5992C0309c               Acevedo LLC   \n",
       "1      2  ec094061FeaF7Bc            Walls-Mcdonald   \n",
       "2      3  DAcC5dbc58946A7               Gregory PLC   \n",
       "3      4  8Dd7beDa37FbeD0  Byrd, Patterson and Knox   \n",
       "4      5  a3b5c54AEC163e4          Mcdowell-Hopkins   \n",
       "\n",
       "                        Website                        Country  \\\n",
       "0      https://www.donovan.com/  Holy See (Vatican City State)   \n",
       "1      http://arias-willis.net/                      Lithuania   \n",
       "2  http://www.lynch-hoover.net/                        Tokelau   \n",
       "3  https://www.james-velez.net/                    Netherlands   \n",
       "4           http://fuentes.com/                        Mayotte   \n",
       "\n",
       "                            Description  Founded                     Industry  \\\n",
       "0      Multi-channeled bottom-line core     2019  Graphic Design / Web Design   \n",
       "1     Compatible encompassing groupware     2005                    Utilities   \n",
       "2  Multi-channeled intangible help-desk     2019             Leisure / Travel   \n",
       "3         Pre-emptive national function     1982                    Furniture   \n",
       "4            Cloned bifurcated solution     2016            Online Publishing   \n",
       "\n",
       "   Number of employees  \n",
       "0                 7070  \n",
       "1                 8156  \n",
       "2                 6121  \n",
       "3                 3494  \n",
       "4                   36  "
      ]
     },
     "execution_count": 2,
     "metadata": {},
     "output_type": "execute_result"
    }
   ],
   "source": [
    "df = pd.read_csv(\"company.csv\")\n",
    "df.head()"
   ]
  },
  {
   "cell_type": "code",
   "execution_count": 3,
   "id": "9e0c609c-270c-4f04-99ae-987a4f86ef41",
   "metadata": {},
   "outputs": [
    {
     "data": {
      "text/plain": [
       "Index                  False\n",
       "Organization Id        False\n",
       "Name                   False\n",
       "Website                False\n",
       "Country                False\n",
       "Description            False\n",
       "Founded                False\n",
       "Industry               False\n",
       "Number of employees    False\n",
       "dtype: bool"
      ]
     },
     "execution_count": 3,
     "metadata": {},
     "output_type": "execute_result"
    }
   ],
   "source": [
    "df.isna().any()"
   ]
  },
  {
   "cell_type": "code",
   "execution_count": 4,
   "id": "51199495-3956-4e28-aa9e-29a5a8e60380",
   "metadata": {},
   "outputs": [
    {
     "data": {
      "text/plain": [
       "Index                  False\n",
       "Organization Id        False\n",
       "Name                    True\n",
       "Website                False\n",
       "Country                False\n",
       "Description            False\n",
       "Founded                False\n",
       "Industry               False\n",
       "Number of employees    False\n",
       "dtype: bool"
      ]
     },
     "execution_count": 4,
     "metadata": {},
     "output_type": "execute_result"
    }
   ],
   "source": [
    "df_copy = df.copy()\n",
    "df_copy.loc[2, \"Name\"] = np.nan\n",
    "df_copy.isna().any()"
   ]
  },
  {
   "cell_type": "code",
   "execution_count": 5,
   "id": "61905504-2141-45f0-a693-c8f744cda2a6",
   "metadata": {},
   "outputs": [
    {
     "data": {
      "text/plain": [
       "Index                  False\n",
       "Organization Id        False\n",
       "Name                    True\n",
       "Website                False\n",
       "Country                False\n",
       "Description            False\n",
       "Founded                False\n",
       "Industry               False\n",
       "Number of employees    False\n",
       "dtype: bool"
      ]
     },
     "execution_count": 5,
     "metadata": {},
     "output_type": "execute_result"
    }
   ],
   "source": [
    "df_copy.isnull().any()"
   ]
  },
  {
   "cell_type": "code",
   "execution_count": 6,
   "id": "46674b40-ded5-4afd-98e0-49acc1afab30",
   "metadata": {},
   "outputs": [
    {
     "data": {
      "text/plain": [
       "(100000, 8)"
      ]
     },
     "execution_count": 6,
     "metadata": {},
     "output_type": "execute_result"
    }
   ],
   "source": [
    "df_copy.dropna(axis=1).shape"
   ]
  },
  {
   "cell_type": "code",
   "execution_count": 7,
   "id": "139ad91c-92cf-40d6-9cfe-c5edf87cc9d6",
   "metadata": {},
   "outputs": [
    {
     "data": {
      "text/plain": [
       "(99999, 9)"
      ]
     },
     "execution_count": 7,
     "metadata": {},
     "output_type": "execute_result"
    }
   ],
   "source": [
    "df_copy.dropna(axis=0).shape"
   ]
  },
  {
   "cell_type": "code",
   "execution_count": 8,
   "id": "c06adc62-61b3-4ab7-87ac-dcb0fc990928",
   "metadata": {},
   "outputs": [
    {
     "data": {
      "text/plain": [
       "(100000, 9)"
      ]
     },
     "execution_count": 8,
     "metadata": {},
     "output_type": "execute_result"
    }
   ],
   "source": [
    "df_copy.shape"
   ]
  }
 ],
 "metadata": {
  "kernelspec": {
   "display_name": "Python 3 (ipykernel)",
   "language": "python",
   "name": "python3"
  },
  "language_info": {
   "codemirror_mode": {
    "name": "ipython",
    "version": 3
   },
   "file_extension": ".py",
   "mimetype": "text/x-python",
   "name": "python",
   "nbconvert_exporter": "python",
   "pygments_lexer": "ipython3",
   "version": "3.11.9"
  }
 },
 "nbformat": 4,
 "nbformat_minor": 5
}
