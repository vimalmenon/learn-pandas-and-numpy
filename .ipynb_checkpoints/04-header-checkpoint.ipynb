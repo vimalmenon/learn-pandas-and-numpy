{
 "cells": [
  {
   "cell_type": "markdown",
   "id": "1c08f0dd-7043-48ea-b657-5098e84d43b4",
   "metadata": {},
   "source": [
    "# Header Manipulation"
   ]
  },
  {
   "cell_type": "markdown",
   "id": "2d966378-2999-4fba-aec7-dda729be32f2",
   "metadata": {},
   "source": [
    "## Import pandas"
   ]
  },
  {
   "cell_type": "code",
   "execution_count": null,
   "id": "39bde19e-9ff9-4bde-8c66-7fc4a82266f2",
   "metadata": {},
   "outputs": [],
   "source": [
    "import pandas as pd\n",
    "import numpy as np"
   ]
  },
  {
   "cell_type": "markdown",
   "id": "7fd84112-233c-4371-badd-993d9c201c9a",
   "metadata": {},
   "source": [
    "## Load Data"
   ]
  },
  {
   "cell_type": "code",
   "execution_count": null,
   "id": "e945add8-bd40-42f2-98a0-55673acc2ca7",
   "metadata": {},
   "outputs": [],
   "source": [
    "df = pd.read_csv(\"company.csv\")\n",
    "df.head()"
   ]
  },
  {
   "cell_type": "code",
   "execution_count": null,
   "id": "9e0c609c-270c-4f04-99ae-987a4f86ef41",
   "metadata": {},
   "outputs": [],
   "source": [
    "df.isna().any()"
   ]
  },
  {
   "cell_type": "code",
   "execution_count": null,
   "id": "51199495-3956-4e28-aa9e-29a5a8e60380",
   "metadata": {},
   "outputs": [],
   "source": [
    "df_copy = df.copy()\n",
    "df_copy.loc[2, \"Name\"] = np.nan\n",
    "df_copy.isna().any()"
   ]
  },
  {
   "cell_type": "markdown",
   "id": "fed85cf8-3d29-41aa-9bf9-a04367168465",
   "metadata": {},
   "source": [
    "## Get NA values"
   ]
  },
  {
   "cell_type": "code",
   "execution_count": null,
   "id": "da457153-f3a4-4f80-9fb3-3c0cccc97c2e",
   "metadata": {},
   "outputs": [],
   "source": [
    "df_copy[df_copy.isna().any(axis=1)]"
   ]
  },
  {
   "cell_type": "code",
   "execution_count": null,
   "id": "61905504-2141-45f0-a693-c8f744cda2a6",
   "metadata": {},
   "outputs": [],
   "source": [
    "df_copy.isnull().any()"
   ]
  },
  {
   "cell_type": "code",
   "execution_count": null,
   "id": "46674b40-ded5-4afd-98e0-49acc1afab30",
   "metadata": {},
   "outputs": [],
   "source": [
    "df_copy.dropna(axis=1).shape"
   ]
  },
  {
   "cell_type": "code",
   "execution_count": null,
   "id": "139ad91c-92cf-40d6-9cfe-c5edf87cc9d6",
   "metadata": {},
   "outputs": [],
   "source": [
    "df_copy.dropna(axis=0).shape"
   ]
  },
  {
   "cell_type": "code",
   "execution_count": null,
   "id": "c06adc62-61b3-4ab7-87ac-dcb0fc990928",
   "metadata": {},
   "outputs": [],
   "source": [
    "df_copy.shape"
   ]
  },
  {
   "cell_type": "code",
   "execution_count": null,
   "id": "a79af95b-0bd1-45ad-b198-36463fa89c7b",
   "metadata": {},
   "outputs": [],
   "source": [
    "df_groupby = df.rename(columns={\"Number of employees\":\"EmployeeCount\", \"Organization Id\":\"id\"})"
   ]
  },
  {
   "cell_type": "code",
   "execution_count": null,
   "id": "b0db1745-0ec0-4f1f-9c67-1d9e8039235b",
   "metadata": {},
   "outputs": [],
   "source": [
    "df_groupby.groupby(\"Country\").count()"
   ]
  },
  {
   "cell_type": "code",
   "execution_count": null,
   "id": "8b9a7fa0-a8ac-41b9-a5c0-1d7902a98694",
   "metadata": {},
   "outputs": [],
   "source": [
    "df_groupby.groupby(\"Country\").min()"
   ]
  },
  {
   "cell_type": "code",
   "execution_count": null,
   "id": "0b87a4c9-e939-4cd7-ab29-57257af66bab",
   "metadata": {},
   "outputs": [],
   "source": [
    "df_groupby.groupby(\"Country\").max()"
   ]
  },
  {
   "cell_type": "code",
   "execution_count": null,
   "id": "67c60bc0-1853-4f14-8b45-395c75e6a97b",
   "metadata": {},
   "outputs": [],
   "source": [
    "df_groupby.groupby(\"Country\").sum()"
   ]
  },
  {
   "cell_type": "code",
   "execution_count": null,
   "id": "fba79739-328e-4dea-b0f2-6cf9674b92eb",
   "metadata": {},
   "outputs": [],
   "source": [
    "df_groupby.groupby(\"Country\").agg({\"EmployeeCount\": [\"sum\", \"count\"]})"
   ]
  },
  {
   "cell_type": "code",
   "execution_count": null,
   "id": "f072fda2-3b68-4290-ae7b-679e84b45b36",
   "metadata": {},
   "outputs": [],
   "source": [
    "df_groupby.groupby(\"Country\").describe()"
   ]
  },
  {
   "cell_type": "code",
   "execution_count": null,
   "id": "01f999a0-ebd5-4cc9-b8de-162811b1f345",
   "metadata": {},
   "outputs": [],
   "source": [
    "df.groupby(\"Country\").groups"
   ]
  },
  {
   "cell_type": "code",
   "execution_count": null,
   "id": "92b86a7c-de9d-4a26-96c2-6cb8f7fb6014",
   "metadata": {},
   "outputs": [],
   "source": [
    "df_group = df.groupby(\"Country\")"
   ]
  },
  {
   "cell_type": "code",
   "execution_count": null,
   "id": "d067d8dc-50ff-4611-8e65-a121e1b6d2ab",
   "metadata": {},
   "outputs": [],
   "source": [
    "df_group.get_group('Afghanistan')"
   ]
  },
  {
   "cell_type": "code",
   "execution_count": null,
   "id": "309edf8e-58b5-4d91-a671-1da722b3f988",
   "metadata": {},
   "outputs": [],
   "source": []
  }
 ],
 "metadata": {
  "kernelspec": {
   "display_name": "Python 3 (ipykernel)",
   "language": "python",
   "name": "python3"
  },
  "language_info": {
   "codemirror_mode": {
    "name": "ipython",
    "version": 3
   },
   "file_extension": ".py",
   "mimetype": "text/x-python",
   "name": "python",
   "nbconvert_exporter": "python",
   "pygments_lexer": "ipython3",
   "version": "3.11.9"
  }
 },
 "nbformat": 4,
 "nbformat_minor": 5
}
