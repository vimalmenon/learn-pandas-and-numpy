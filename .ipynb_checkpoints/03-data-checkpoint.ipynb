{
 "cells": [
  {
   "cell_type": "markdown",
   "id": "12064a66-a79a-449e-8493-310cef594367",
   "metadata": {},
   "source": [
    "# 03 - Data"
   ]
  },
  {
   "cell_type": "markdown",
   "id": "8c600ba0-ddbc-452e-a0cc-2b396866e0ca",
   "metadata": {},
   "source": [
    "## Import pandas"
   ]
  },
  {
   "cell_type": "code",
   "execution_count": null,
   "id": "6c88e185-ea21-449e-8642-6cfc7dee5b3c",
   "metadata": {},
   "outputs": [],
   "source": [
    "import pandas as pd"
   ]
  },
  {
   "cell_type": "markdown",
   "id": "8cab07b0-a15f-4fe2-bb1d-20b2c604c692",
   "metadata": {},
   "source": [
    "## Load user csv"
   ]
  },
  {
   "cell_type": "code",
   "execution_count": null,
   "id": "9a491fb1-9904-4463-9dba-91f28e5a07fd",
   "metadata": {},
   "outputs": [],
   "source": [
    "df = pd.read_csv(\"user.csv\")\n",
    "df.head()"
   ]
  },
  {
   "cell_type": "markdown",
   "id": "39a260cf-2ae7-44b3-8a85-0d86fa5909fc",
   "metadata": {},
   "source": [
    "## Get all Male data"
   ]
  },
  {
   "cell_type": "code",
   "execution_count": null,
   "id": "b0882d5f-8b4b-47be-ac9a-477d8baa8bd8",
   "metadata": {},
   "outputs": [],
   "source": [
    "df_male= df.loc[df[\"Sex\"] == \"Male\"]\n",
    "df_male"
   ]
  },
  {
   "cell_type": "markdown",
   "id": "0ba69900-5f52-48f1-a243-6c70a8003cc0",
   "metadata": {},
   "source": [
    "## Get all Female data"
   ]
  },
  {
   "cell_type": "code",
   "execution_count": null,
   "id": "45ad2109-5c71-4359-af46-cf842f2d01f1",
   "metadata": {},
   "outputs": [],
   "source": [
    "df_female = df.loc[df[\"Sex\"] == \"Female\"]\n",
    "df_female"
   ]
  },
  {
   "cell_type": "markdown",
   "id": "1b2e9cba-315b-4853-9b38-abb476f425ba",
   "metadata": {},
   "source": [
    "## Change the column Title"
   ]
  },
  {
   "cell_type": "code",
   "execution_count": null,
   "id": "2b82a417-aeda-4060-b057-7375bb26f657",
   "metadata": {},
   "outputs": [],
   "source": [
    "df_new_header = df.rename(columns=\n",
    "    {\n",
    "        \"Date of birth\": \"DOB\", \n",
    "        \"First Name\": \"FirstName\", \n",
    "        \"Last Name\": \"LastName\", \n",
    "        \"User Id\": \"Id\",\n",
    "        \"Job Title\": \"Job\"\n",
    "    }\n",
    ")\n",
    "df_new_header.head(20)"
   ]
  },
  {
   "cell_type": "markdown",
   "id": "0969a1b2-b771-499c-ab6c-d7cac24be62d",
   "metadata": {},
   "source": [
    "## Data with specific headers"
   ]
  },
  {
   "cell_type": "code",
   "execution_count": null,
   "id": "88a7aa66-8b01-4ed6-b0b2-cdc805e78903",
   "metadata": {},
   "outputs": [],
   "source": [
    "df_new_header[[\"FirstName\", \"LastName\"]]"
   ]
  },
  {
   "cell_type": "code",
   "execution_count": null,
   "id": "2a363a72-d8a7-4a4f-a19b-dcc599c6dbed",
   "metadata": {},
   "outputs": [],
   "source": [
    "df_new_header_copy = df_new_header.copy()\n",
    "df_new_header_copy.pop(\"Email\")\n",
    "df_new_header_copy"
   ]
  },
  {
   "cell_type": "code",
   "execution_count": null,
   "id": "7e5dbaa3-ef1a-43af-9a8d-9ba8103df470",
   "metadata": {},
   "outputs": [],
   "source": [
    "df_new_header_drop = df_new_header.copy()\n",
    "df_new_header_drop = df_new_header_drop.drop([\"Phone\", \"DOB\"], axis=1)\n",
    "df_new_header_drop"
   ]
  },
  {
   "cell_type": "code",
   "execution_count": null,
   "id": "f17b854d-0e96-447d-9345-f07a36201c43",
   "metadata": {},
   "outputs": [],
   "source": [
    "df_new_header = df_new_header[list(df_new_header.columns[1:])]\n",
    "df_new_header"
   ]
  },
  {
   "cell_type": "code",
   "execution_count": null,
   "id": "fbb0f81d-66ad-408b-b067-d1d1900194f6",
   "metadata": {},
   "outputs": [],
   "source": [
    "df_new_header.info()"
   ]
  },
  {
   "cell_type": "code",
   "execution_count": null,
   "id": "27a3ffc6-4b8c-4604-a82b-f609c819e8e3",
   "metadata": {},
   "outputs": [],
   "source": [
    "df_new_header.describe()"
   ]
  },
  {
   "cell_type": "code",
   "execution_count": null,
   "id": "ad47570b-748e-4448-8d10-c97799200eb0",
   "metadata": {},
   "outputs": [],
   "source": [
    "df_new_header.dtypes"
   ]
  },
  {
   "cell_type": "code",
   "execution_count": null,
   "id": "a72c5aa2-c417-463f-a646-42bf74feaeb2",
   "metadata": {},
   "outputs": [],
   "source": [
    "df_new_header[\"Age\"] = df_new_header.apply(lambda x: 2024 - int(x['DOB'].split(\"-\")[0]), axis=1)\n",
    "df_new_header"
   ]
  },
  {
   "cell_type": "code",
   "execution_count": null,
   "id": "707ae777-009e-4a6b-81da-011fd1c43fbf",
   "metadata": {},
   "outputs": [],
   "source": [
    "df_new_header[0:2].apply(lambda x: print(x), axis=1)"
   ]
  },
  {
   "cell_type": "code",
   "execution_count": null,
   "id": "f6da3863-63e8-4e8e-aac9-be1337e66472",
   "metadata": {},
   "outputs": [],
   "source": [
    "df_new_header[df_new_header[\"Job\"] == \"Lawyer\"]"
   ]
  },
  {
   "cell_type": "code",
   "execution_count": null,
   "id": "a1160499-8b86-4bb0-98b1-8594cecf5e87",
   "metadata": {},
   "outputs": [],
   "source": [
    "df_new_header.loc[1]"
   ]
  },
  {
   "cell_type": "code",
   "execution_count": null,
   "id": "78b1ec1c-583f-4873-8866-30a429585deb",
   "metadata": {},
   "outputs": [],
   "source": [
    "df_new_index = df_new_header.set_index(\"FirstName\")"
   ]
  },
  {
   "cell_type": "code",
   "execution_count": null,
   "id": "a64ca26d-2525-4cbe-a748-5d90c2983fa0",
   "metadata": {},
   "outputs": [],
   "source": [
    "df_new_index.loc[\"Riley\"]"
   ]
  },
  {
   "cell_type": "code",
   "execution_count": null,
   "id": "382b041b-2bb8-4206-affe-e02072f88371",
   "metadata": {},
   "outputs": [],
   "source": [
    "df_new_header[~df_new_header[\"Email\"].str.contains(\"example.com\")]"
   ]
  },
  {
   "cell_type": "code",
   "execution_count": null,
   "id": "ec64dab4-eb4f-4269-8248-b2f0c352111c",
   "metadata": {},
   "outputs": [],
   "source": [
    "# df_group_sex = df_new_header.groupby(\"Sex\")\n",
    "df_new_header.sort_values(\"Sex\")"
   ]
  },
  {
   "cell_type": "code",
   "execution_count": null,
   "id": "077dd563-46f9-46ee-9e6b-6307ebc4bd5d",
   "metadata": {},
   "outputs": [],
   "source": [
    "gk = df_new_header.groupby('Sex', sort = True)\n",
    "gk.head()"
   ]
  },
  {
   "cell_type": "code",
   "execution_count": null,
   "id": "384ad527-8fbc-4a92-9581-3c505a1235bc",
   "metadata": {},
   "outputs": [],
   "source": [
    "gk.groups.keys()"
   ]
  },
  {
   "cell_type": "code",
   "execution_count": null,
   "id": "afaf9533-754c-418e-9d3b-de7b90128d29",
   "metadata": {},
   "outputs": [],
   "source": [
    "gk.count()"
   ]
  },
  {
   "cell_type": "code",
   "execution_count": null,
   "id": "f276fead-5bd2-407b-a179-012714b5fdda",
   "metadata": {},
   "outputs": [],
   "source": [
    "%%timeit\n",
    "gk"
   ]
  },
  {
   "cell_type": "code",
   "execution_count": null,
   "id": "b69e3694-e954-4e22-b966-f5f0e49b3209",
   "metadata": {},
   "outputs": [],
   "source": [
    "df_new_header.take([1, 2], axis=1)"
   ]
  },
  {
   "cell_type": "code",
   "execution_count": null,
   "id": "23e3f5fb-bebd-4af2-82bf-0a3a1fc21fb7",
   "metadata": {},
   "outputs": [],
   "source": [
    "df_new_header.take([1, 2])"
   ]
  },
  {
   "cell_type": "code",
   "execution_count": null,
   "id": "5dd3b322-6b1f-4bac-8e09-193ec4fbcffe",
   "metadata": {},
   "outputs": [],
   "source": [
    "type(df_new_header[\"FirstName\"])"
   ]
  },
  {
   "cell_type": "code",
   "execution_count": null,
   "id": "0bb40c1d-0d64-4cab-a1ca-4bfd8f14989c",
   "metadata": {},
   "outputs": [],
   "source": [
    "df_new_header.take([1], axis=0)"
   ]
  },
  {
   "cell_type": "code",
   "execution_count": null,
   "id": "700a50d8-1165-4558-bd9d-3d5f080fd608",
   "metadata": {},
   "outputs": [],
   "source": [
    "df_new_header.sort_values(by=[\"Age\"])"
   ]
  },
  {
   "cell_type": "code",
   "execution_count": null,
   "id": "1fbcb838-a183-404a-ab8f-1ff3b0d4b240",
   "metadata": {},
   "outputs": [],
   "source": [
    "df_new_header[\"FirstName\"].value_counts().sample(8)"
   ]
  },
  {
   "cell_type": "code",
   "execution_count": null,
   "id": "3e19ca02-3916-4733-8e83-0ed386969a16",
   "metadata": {},
   "outputs": [],
   "source": [
    "df_new_header[\"LastName\"].value_counts()"
   ]
  },
  {
   "cell_type": "code",
   "execution_count": null,
   "id": "ff094694-c1ad-49bd-9967-cd23fcacc0c8",
   "metadata": {},
   "outputs": [],
   "source": [
    "df_new_header.sample(6)"
   ]
  },
  {
   "cell_type": "code",
   "execution_count": null,
   "id": "682bf979-6092-4f25-980a-8ba87315127d",
   "metadata": {},
   "outputs": [],
   "source": [
    "df_new_header.Job.unique()"
   ]
  },
  {
   "cell_type": "code",
   "execution_count": null,
   "id": "044c93ae-babc-4cab-bc8a-916ce8d4d1ca",
   "metadata": {},
   "outputs": [],
   "source": [
    "df_new_header.Job.unique().shape"
   ]
  },
  {
   "cell_type": "code",
   "execution_count": null,
   "id": "4ed661c2-ddb3-4ea8-b10d-6550899aa4df",
   "metadata": {},
   "outputs": [],
   "source": [
    "df_new_header[df_new_header.Age > 11].sort_values(by=\"Age\", ascending=False)"
   ]
  },
  {
   "cell_type": "code",
   "execution_count": null,
   "id": "451b5614-0120-4977-8f26-160d69ea6a64",
   "metadata": {},
   "outputs": [],
   "source": [
    "df_new_header[~df_new_header.Email.str.contains(\"example\")]"
   ]
  },
  {
   "cell_type": "code",
   "execution_count": null,
   "id": "84e546db-dc59-46a5-9394-b87f9e55d1a0",
   "metadata": {},
   "outputs": [],
   "source": [
    "df_new_header.Email.str.contains(\"example\").sum()"
   ]
  },
  {
   "cell_type": "code",
   "execution_count": null,
   "id": "97fafae7-3a3e-4e3f-ad3e-9cbb9cfc5b29",
   "metadata": {},
   "outputs": [],
   "source": [
    "df_new_header.Email.str.contains(\"example\").value_counts()"
   ]
  }
 ],
 "metadata": {
  "kernelspec": {
   "display_name": "Python 3 (ipykernel)",
   "language": "python",
   "name": "python3"
  },
  "language_info": {
   "codemirror_mode": {
    "name": "ipython",
    "version": 3
   },
   "file_extension": ".py",
   "mimetype": "text/x-python",
   "name": "python",
   "nbconvert_exporter": "python",
   "pygments_lexer": "ipython3",
   "version": "3.11.9"
  }
 },
 "nbformat": 4,
 "nbformat_minor": 5
}
