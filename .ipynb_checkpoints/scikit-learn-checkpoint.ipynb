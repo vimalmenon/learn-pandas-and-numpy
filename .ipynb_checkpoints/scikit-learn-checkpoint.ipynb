{
 "cells": [
  {
   "cell_type": "markdown",
   "id": "5ccf784b-7065-4b29-83fa-e58fc1280342",
   "metadata": {},
   "source": [
    "# Scikit Learn\n",
    "- ## [Scikit](https://scikit-learn.org/stable/index.html)"
   ]
  },
  {
   "cell_type": "code",
   "execution_count": 1,
   "id": "9a73234a-ac12-4e6e-8b57-189467ce2ae7",
   "metadata": {},
   "outputs": [],
   "source": [
    "import pandas as pd\n",
    "import numpy as np"
   ]
  },
  {
   "cell_type": "code",
   "execution_count": 4,
   "id": "61be5fff-f522-4632-b234-be80d35a0c24",
   "metadata": {},
   "outputs": [],
   "source": [
    "data = {\n",
    "    \"name\": [\"Jake\", \"paul\", \"Tim\", \"Jim\"],\n",
    "    \"review\": [\"This is bad!\", \"This should be banned!\", \"Awesome Product\", \"Another scam\"],\n",
    "    \"score\": [1, 2, 4, 2]\n",
    "}"
   ]
  },
  {
   "cell_type": "code",
   "execution_count": 5,
   "id": "b2682a87-5c81-4e86-9f95-52ca893f6165",
   "metadata": {},
   "outputs": [
    {
     "data": {
      "text/html": [
       "<div>\n",
       "<style scoped>\n",
       "    .dataframe tbody tr th:only-of-type {\n",
       "        vertical-align: middle;\n",
       "    }\n",
       "\n",
       "    .dataframe tbody tr th {\n",
       "        vertical-align: top;\n",
       "    }\n",
       "\n",
       "    .dataframe thead th {\n",
       "        text-align: right;\n",
       "    }\n",
       "</style>\n",
       "<table border=\"1\" class=\"dataframe\">\n",
       "  <thead>\n",
       "    <tr style=\"text-align: right;\">\n",
       "      <th></th>\n",
       "      <th>name</th>\n",
       "      <th>review</th>\n",
       "      <th>score</th>\n",
       "    </tr>\n",
       "  </thead>\n",
       "  <tbody>\n",
       "    <tr>\n",
       "      <th>0</th>\n",
       "      <td>Jake</td>\n",
       "      <td>This is bad!</td>\n",
       "      <td>1</td>\n",
       "    </tr>\n",
       "    <tr>\n",
       "      <th>1</th>\n",
       "      <td>paul</td>\n",
       "      <td>This should be banned!</td>\n",
       "      <td>2</td>\n",
       "    </tr>\n",
       "    <tr>\n",
       "      <th>2</th>\n",
       "      <td>Tim</td>\n",
       "      <td>Awesome Product</td>\n",
       "      <td>4</td>\n",
       "    </tr>\n",
       "    <tr>\n",
       "      <th>3</th>\n",
       "      <td>Jim</td>\n",
       "      <td>Another scam</td>\n",
       "      <td>2</td>\n",
       "    </tr>\n",
       "  </tbody>\n",
       "</table>\n",
       "</div>"
      ],
      "text/plain": [
       "   name                  review  score\n",
       "0  Jake            This is bad!      1\n",
       "1  paul  This should be banned!      2\n",
       "2   Tim         Awesome Product      4\n",
       "3   Jim            Another scam      2"
      ]
     },
     "execution_count": 5,
     "metadata": {},
     "output_type": "execute_result"
    }
   ],
   "source": [
    "df = pd.DataFrame(data)\n",
    "df"
   ]
  },
  {
   "cell_type": "code",
   "execution_count": null,
   "id": "dfea9a33-b1a5-4950-9c98-427299417fd7",
   "metadata": {},
   "outputs": [],
   "source": []
  }
 ],
 "metadata": {
  "kernelspec": {
   "display_name": "Python 3 (ipykernel)",
   "language": "python",
   "name": "python3"
  },
  "language_info": {
   "codemirror_mode": {
    "name": "ipython",
    "version": 3
   },
   "file_extension": ".py",
   "mimetype": "text/x-python",
   "name": "python",
   "nbconvert_exporter": "python",
   "pygments_lexer": "ipython3",
   "version": "3.11.9"
  }
 },
 "nbformat": 4,
 "nbformat_minor": 5
}
