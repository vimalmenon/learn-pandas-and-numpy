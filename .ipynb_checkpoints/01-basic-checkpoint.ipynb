{
 "cells": [
  {
   "cell_type": "markdown",
   "id": "7323c953-c7d0-4336-bcb3-2a8a70633264",
   "metadata": {},
   "source": [
    "# 01 - Basic of Pandas\n",
    " - [Install Pandas](#install_pandas) \n",
    " - [Import Pandas](#import_pandas)\n",
    " - [How to check Shape](#how_to_check_shape)\n",
    " - Check Datatype"
   ]
  },
  {
   "cell_type": "markdown",
   "id": "a49726d6-99b5-460e-9782-f0c124aadb79",
   "metadata": {},
   "source": [
    "## <a id='install_pandas'>Install Pandas</a>"
   ]
  },
  {
   "cell_type": "code",
   "execution_count": 1,
   "id": "6b876514-fb3a-44f4-9903-dccd977b601f",
   "metadata": {},
   "outputs": [
    {
     "name": "stdout",
     "output_type": "stream",
     "text": [
      "Requirement already satisfied: pandas in ./.venv/lib/python3.11/site-packages (2.2.2)\n",
      "Requirement already satisfied: numpy>=1.23.2 in ./.venv/lib/python3.11/site-packages (from pandas) (1.26.4)\n",
      "Requirement already satisfied: python-dateutil>=2.8.2 in ./.venv/lib/python3.11/site-packages (from pandas) (2.9.0.post0)\n",
      "Requirement already satisfied: pytz>=2020.1 in ./.venv/lib/python3.11/site-packages (from pandas) (2024.1)\n",
      "Requirement already satisfied: tzdata>=2022.7 in ./.venv/lib/python3.11/site-packages (from pandas) (2024.1)\n",
      "Requirement already satisfied: six>=1.5 in ./.venv/lib/python3.11/site-packages (from python-dateutil>=2.8.2->pandas) (1.16.0)\n"
     ]
    }
   ],
   "source": [
    "!pip install pandas"
   ]
  },
  {
   "cell_type": "markdown",
   "id": "042502ee-15ac-4f14-b5b6-7e3ce167947c",
   "metadata": {},
   "source": [
    "## <a id='import_pandas'>Import Pandas</a>"
   ]
  },
  {
   "cell_type": "code",
   "execution_count": 2,
   "id": "e3aa956c-6637-430c-8f19-36b53fafecce",
   "metadata": {},
   "outputs": [],
   "source": [
    "import pandas as pd"
   ]
  },
  {
   "cell_type": "markdown",
   "id": "30949bdb-1008-48d0-81e3-617c3a465c1c",
   "metadata": {},
   "source": [
    "## Check Pandas version"
   ]
  },
  {
   "cell_type": "code",
   "execution_count": 3,
   "id": "2cf570e6-2dc6-45f9-96a5-6f243c714f76",
   "metadata": {},
   "outputs": [
    {
     "data": {
      "text/plain": [
       "'2.2.2'"
      ]
     },
     "execution_count": 3,
     "metadata": {},
     "output_type": "execute_result"
    }
   ],
   "source": [
    "pd.__version__"
   ]
  },
  {
   "cell_type": "markdown",
   "id": "0a0e9291-2f71-4908-b2d0-eee1d04faa7b",
   "metadata": {},
   "source": [
    "## How to create Series"
   ]
  },
  {
   "cell_type": "code",
   "execution_count": 4,
   "id": "a8778a82-19eb-469f-8a56-c99e08a6f1c6",
   "metadata": {},
   "outputs": [
    {
     "data": {
      "text/plain": [
       "0    1\n",
       "1    2\n",
       "2    3\n",
       "3    4\n",
       "4    5\n",
       "dtype: int64"
      ]
     },
     "execution_count": 4,
     "metadata": {},
     "output_type": "execute_result"
    }
   ],
   "source": [
    "df = pd.Series([1,2,3,4,5])\n",
    "df"
   ]
  },
  {
   "cell_type": "markdown",
   "id": "ce581ccf-a3fa-43a1-9afd-4184d7ad8c30",
   "metadata": {},
   "source": [
    "## <a id='how_to_check_shape'>How to check Shape</a>"
   ]
  },
  {
   "cell_type": "code",
   "execution_count": 5,
   "id": "44002e9d-77cc-4b0e-9bc2-f8a0d42d9f76",
   "metadata": {},
   "outputs": [
    {
     "data": {
      "text/plain": [
       "(5,)"
      ]
     },
     "execution_count": 5,
     "metadata": {},
     "output_type": "execute_result"
    }
   ],
   "source": [
    "df.shape"
   ]
  },
  {
   "cell_type": "markdown",
   "id": "9b7270d2-723a-482b-9a5a-22c5676ec1b4",
   "metadata": {},
   "source": [
    "## How to create DataFrame"
   ]
  },
  {
   "cell_type": "code",
   "execution_count": 6,
   "id": "5158d866-8acc-41f9-8388-7cc19a05858d",
   "metadata": {},
   "outputs": [
    {
     "data": {
      "text/html": [
       "<div>\n",
       "<style scoped>\n",
       "    .dataframe tbody tr th:only-of-type {\n",
       "        vertical-align: middle;\n",
       "    }\n",
       "\n",
       "    .dataframe tbody tr th {\n",
       "        vertical-align: top;\n",
       "    }\n",
       "\n",
       "    .dataframe thead th {\n",
       "        text-align: right;\n",
       "    }\n",
       "</style>\n",
       "<table border=\"1\" class=\"dataframe\">\n",
       "  <thead>\n",
       "    <tr style=\"text-align: right;\">\n",
       "      <th></th>\n",
       "      <th>firstName</th>\n",
       "      <th>lastName</th>\n",
       "      <th>age</th>\n",
       "    </tr>\n",
       "  </thead>\n",
       "  <tbody>\n",
       "    <tr>\n",
       "      <th>0</th>\n",
       "      <td>Vimal</td>\n",
       "      <td>Menon</td>\n",
       "      <td>38</td>\n",
       "    </tr>\n",
       "    <tr>\n",
       "      <th>1</th>\n",
       "      <td>Krishiv</td>\n",
       "      <td>Menon</td>\n",
       "      <td>1</td>\n",
       "    </tr>\n",
       "    <tr>\n",
       "      <th>2</th>\n",
       "      <td>Nitya</td>\n",
       "      <td>Kurup</td>\n",
       "      <td>33</td>\n",
       "    </tr>\n",
       "  </tbody>\n",
       "</table>\n",
       "</div>"
      ],
      "text/plain": [
       "  firstName lastName  age\n",
       "0     Vimal    Menon   38\n",
       "1   Krishiv    Menon    1\n",
       "2     Nitya    Kurup   33"
      ]
     },
     "execution_count": 6,
     "metadata": {},
     "output_type": "execute_result"
    }
   ],
   "source": [
    "df = pd.DataFrame({\"firstName\": [\"Vimal\", \"Krishiv\",\"Nitya\"], \"lastName\": [\"Menon\", \"Menon\", \"Kurup\"], \"age\":[38,1,33]})\n",
    "df"
   ]
  },
  {
   "cell_type": "markdown",
   "id": "d766fe4c-872b-4372-92f7-7eaba2cfcf35",
   "metadata": {},
   "source": [
    "## How to check Shape"
   ]
  },
  {
   "cell_type": "code",
   "execution_count": 7,
   "id": "c0221ea4-6059-4814-b055-770de169d7c4",
   "metadata": {},
   "outputs": [
    {
     "data": {
      "text/plain": [
       "(3, 3)"
      ]
     },
     "execution_count": 7,
     "metadata": {},
     "output_type": "execute_result"
    }
   ],
   "source": [
    "df.shape"
   ]
  },
  {
   "cell_type": "markdown",
   "id": "5b7d1ff9-711b-4791-9d11-b5aea2700822",
   "metadata": {},
   "source": [
    "## How to get Info"
   ]
  },
  {
   "cell_type": "code",
   "execution_count": 8,
   "id": "e21f9ac9-fc69-423a-bb89-32d79cc05db0",
   "metadata": {
    "scrolled": true
   },
   "outputs": [
    {
     "name": "stdout",
     "output_type": "stream",
     "text": [
      "<class 'pandas.core.frame.DataFrame'>\n",
      "RangeIndex: 3 entries, 0 to 2\n",
      "Data columns (total 3 columns):\n",
      " #   Column     Non-Null Count  Dtype \n",
      "---  ------     --------------  ----- \n",
      " 0   firstName  3 non-null      object\n",
      " 1   lastName   3 non-null      object\n",
      " 2   age        3 non-null      int64 \n",
      "dtypes: int64(1), object(2)\n",
      "memory usage: 204.0+ bytes\n"
     ]
    }
   ],
   "source": [
    "df.info()"
   ]
  },
  {
   "cell_type": "markdown",
   "id": "489d6dd1-4836-4b33-af64-39335b6c315c",
   "metadata": {},
   "source": [
    "## How to use describe"
   ]
  },
  {
   "cell_type": "code",
   "execution_count": 9,
   "id": "4c54ef88-752f-4ab8-bc5a-23a8d4772975",
   "metadata": {
    "scrolled": true
   },
   "outputs": [
    {
     "data": {
      "text/html": [
       "<div>\n",
       "<style scoped>\n",
       "    .dataframe tbody tr th:only-of-type {\n",
       "        vertical-align: middle;\n",
       "    }\n",
       "\n",
       "    .dataframe tbody tr th {\n",
       "        vertical-align: top;\n",
       "    }\n",
       "\n",
       "    .dataframe thead th {\n",
       "        text-align: right;\n",
       "    }\n",
       "</style>\n",
       "<table border=\"1\" class=\"dataframe\">\n",
       "  <thead>\n",
       "    <tr style=\"text-align: right;\">\n",
       "      <th></th>\n",
       "      <th>age</th>\n",
       "    </tr>\n",
       "  </thead>\n",
       "  <tbody>\n",
       "    <tr>\n",
       "      <th>count</th>\n",
       "      <td>3.00000</td>\n",
       "    </tr>\n",
       "    <tr>\n",
       "      <th>mean</th>\n",
       "      <td>24.00000</td>\n",
       "    </tr>\n",
       "    <tr>\n",
       "      <th>std</th>\n",
       "      <td>20.07486</td>\n",
       "    </tr>\n",
       "    <tr>\n",
       "      <th>min</th>\n",
       "      <td>1.00000</td>\n",
       "    </tr>\n",
       "    <tr>\n",
       "      <th>25%</th>\n",
       "      <td>17.00000</td>\n",
       "    </tr>\n",
       "    <tr>\n",
       "      <th>50%</th>\n",
       "      <td>33.00000</td>\n",
       "    </tr>\n",
       "    <tr>\n",
       "      <th>75%</th>\n",
       "      <td>35.50000</td>\n",
       "    </tr>\n",
       "    <tr>\n",
       "      <th>max</th>\n",
       "      <td>38.00000</td>\n",
       "    </tr>\n",
       "  </tbody>\n",
       "</table>\n",
       "</div>"
      ],
      "text/plain": [
       "            age\n",
       "count   3.00000\n",
       "mean   24.00000\n",
       "std    20.07486\n",
       "min     1.00000\n",
       "25%    17.00000\n",
       "50%    33.00000\n",
       "75%    35.50000\n",
       "max    38.00000"
      ]
     },
     "execution_count": 9,
     "metadata": {},
     "output_type": "execute_result"
    }
   ],
   "source": [
    "df.describe()"
   ]
  },
  {
   "cell_type": "markdown",
   "id": "08bf5fac-8557-4498-b4e4-342230b75374",
   "metadata": {},
   "source": [
    "## How to get columns"
   ]
  },
  {
   "cell_type": "code",
   "execution_count": 10,
   "id": "318821e7-db81-4a7b-9afd-7c81f0e0f24e",
   "metadata": {},
   "outputs": [
    {
     "data": {
      "text/plain": [
       "Index(['firstName', 'lastName', 'age'], dtype='object')"
      ]
     },
     "execution_count": 10,
     "metadata": {},
     "output_type": "execute_result"
    }
   ],
   "source": [
    "df.columns"
   ]
  },
  {
   "cell_type": "markdown",
   "id": "12f65582-6b3f-4e6e-9d30-5bd95f585213",
   "metadata": {},
   "source": [
    "## How to get Index"
   ]
  },
  {
   "cell_type": "code",
   "execution_count": 11,
   "id": "337cc805-8b14-4909-85fe-2786d0c5e9b1",
   "metadata": {},
   "outputs": [
    {
     "data": {
      "text/plain": [
       "RangeIndex(start=0, stop=3, step=1)"
      ]
     },
     "execution_count": 11,
     "metadata": {},
     "output_type": "execute_result"
    }
   ],
   "source": [
    "df.index"
   ]
  },
  {
   "cell_type": "markdown",
   "id": "e5fcb9ee-ea17-48ac-afe5-e859508c624c",
   "metadata": {},
   "source": [
    "## Check Datatype"
   ]
  },
  {
   "cell_type": "code",
   "execution_count": 12,
   "id": "15037061-4ede-4c13-9d6f-cd775688327c",
   "metadata": {},
   "outputs": [
    {
     "data": {
      "text/plain": [
       "firstName    object\n",
       "lastName     object\n",
       "age           int64\n",
       "dtype: object"
      ]
     },
     "execution_count": 12,
     "metadata": {},
     "output_type": "execute_result"
    }
   ],
   "source": [
    "df.dtypes"
   ]
  }
 ],
 "metadata": {
  "kernelspec": {
   "display_name": "Python 3 (ipykernel)",
   "language": "python",
   "name": "python3"
  },
  "language_info": {
   "codemirror_mode": {
    "name": "ipython",
    "version": 3
   },
   "file_extension": ".py",
   "mimetype": "text/x-python",
   "name": "python",
   "nbconvert_exporter": "python",
   "pygments_lexer": "ipython3",
   "version": "3.11.9"
  }
 },
 "nbformat": 4,
 "nbformat_minor": 5
}
