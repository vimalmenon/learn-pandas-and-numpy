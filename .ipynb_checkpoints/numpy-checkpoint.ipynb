{
 "cells": [
  {
   "cell_type": "markdown",
   "id": "4818d823-0da2-43b3-8183-91fe3046e213",
   "metadata": {},
   "source": [
    "# Basic of Numpy"
   ]
  },
  {
   "cell_type": "code",
   "execution_count": 1,
   "id": "330e0e38-08bb-48cd-8e77-088f5b0e783e",
   "metadata": {},
   "outputs": [],
   "source": [
    "import numpy as np"
   ]
  },
  {
   "cell_type": "code",
   "execution_count": 2,
   "id": "6d0be5c5-e722-4db6-9cac-0cb0fb88da63",
   "metadata": {},
   "outputs": [
    {
     "data": {
      "text/plain": [
       "array([1, 2, 3, 4])"
      ]
     },
     "execution_count": 2,
     "metadata": {},
     "output_type": "execute_result"
    }
   ],
   "source": [
    "item = np.array([1,2,3,4])\n",
    "item"
   ]
  },
  {
   "cell_type": "code",
   "execution_count": 3,
   "id": "37edec77-730a-4fba-9bcb-2b51327adff1",
   "metadata": {},
   "outputs": [
    {
     "data": {
      "text/plain": [
       "dtype('int64')"
      ]
     },
     "execution_count": 3,
     "metadata": {},
     "output_type": "execute_result"
    }
   ],
   "source": [
    "item.dtype"
   ]
  },
  {
   "cell_type": "code",
   "execution_count": 4,
   "id": "62c4fd48-00b7-46fd-b84e-9c076491f02a",
   "metadata": {},
   "outputs": [
    {
     "data": {
      "text/plain": [
       "(4,)"
      ]
     },
     "execution_count": 4,
     "metadata": {},
     "output_type": "execute_result"
    }
   ],
   "source": [
    "item.shape"
   ]
  },
  {
   "cell_type": "code",
   "execution_count": 5,
   "id": "932dc00c-c9db-4634-a093-e5f7027c840a",
   "metadata": {},
   "outputs": [
    {
     "data": {
      "text/plain": [
       "4"
      ]
     },
     "execution_count": 5,
     "metadata": {},
     "output_type": "execute_result"
    }
   ],
   "source": [
    "len(item)"
   ]
  },
  {
   "cell_type": "code",
   "execution_count": 6,
   "id": "789ebce6-87ee-4dfd-8b5c-b6a73f85605c",
   "metadata": {},
   "outputs": [
    {
     "data": {
      "text/plain": [
       "array([[[99, 99, 99, 99],\n",
       "        [99, 99, 99, 99],\n",
       "        [99, 99, 99, 99]],\n",
       "\n",
       "       [[99, 99, 99, 99],\n",
       "        [99, 99, 99, 99],\n",
       "        [99, 99, 99, 99]]])"
      ]
     },
     "execution_count": 6,
     "metadata": {},
     "output_type": "execute_result"
    }
   ],
   "source": [
    "full = np.full((2,3,4), 99)\n",
    "full"
   ]
  },
  {
   "cell_type": "code",
   "execution_count": 7,
   "id": "76abf5c6-21b5-4ba7-9f40-72db6f73ee72",
   "metadata": {},
   "outputs": [
    {
     "data": {
      "text/plain": [
       "array([[0., 0., 0.],\n",
       "       [0., 0., 0.]])"
      ]
     },
     "execution_count": 7,
     "metadata": {},
     "output_type": "execute_result"
    }
   ],
   "source": [
    "zeros = np.zeros((2,3))\n",
    "zeros"
   ]
  },
  {
   "cell_type": "code",
   "execution_count": 8,
   "id": "b91b2bf1-cbe5-489e-8882-63a1143611e4",
   "metadata": {},
   "outputs": [
    {
     "data": {
      "text/plain": [
       "array([[1., 1., 1.],\n",
       "       [1., 1., 1.]])"
      ]
     },
     "execution_count": 8,
     "metadata": {},
     "output_type": "execute_result"
    }
   ],
   "source": [
    "ones = np.ones((2,3))\n",
    "ones"
   ]
  },
  {
   "cell_type": "code",
   "execution_count": 9,
   "id": "9f75c76f-c731-4115-b357-4a1c4b0c10ab",
   "metadata": {},
   "outputs": [
    {
     "data": {
      "text/plain": [
       "array([[0., 0.],\n",
       "       [0., 0.]])"
      ]
     },
     "execution_count": 9,
     "metadata": {},
     "output_type": "execute_result"
    }
   ],
   "source": [
    "empty = np.empty((2,2))\n",
    "empty"
   ]
  },
  {
   "cell_type": "code",
   "execution_count": 10,
   "id": "5206774a-e7bc-4e78-9dcd-44eae5293a54",
   "metadata": {},
   "outputs": [
    {
     "data": {
      "text/plain": [
       "array([ 0,  5, 10, 15, 20, 25, 30, 35, 40, 45, 50, 55, 60, 65, 70, 75, 80,\n",
       "       85, 90, 95])"
      ]
     },
     "execution_count": 10,
     "metadata": {},
     "output_type": "execute_result"
    }
   ],
   "source": [
    "arange = np.arange(0, 100, 5)\n",
    "arange"
   ]
  },
  {
   "cell_type": "code",
   "execution_count": 11,
   "id": "c7aa299f-deae-4d94-80c1-eeb1746f66ec",
   "metadata": {},
   "outputs": [
    {
     "data": {
      "text/plain": [
       "array([  0.        ,   5.26315789,  10.52631579,  15.78947368,\n",
       "        21.05263158,  26.31578947,  31.57894737,  36.84210526,\n",
       "        42.10526316,  47.36842105,  52.63157895,  57.89473684,\n",
       "        63.15789474,  68.42105263,  73.68421053,  78.94736842,\n",
       "        84.21052632,  89.47368421,  94.73684211, 100.        ])"
      ]
     },
     "execution_count": 11,
     "metadata": {},
     "output_type": "execute_result"
    }
   ],
   "source": [
    "linspace = np.linspace(0, 100, 20)\n",
    "linspace"
   ]
  },
  {
   "cell_type": "code",
   "execution_count": 12,
   "id": "01ad686d-a9b1-4406-b713-71c913631270",
   "metadata": {},
   "outputs": [],
   "source": [
    "nan = np.nan"
   ]
  },
  {
   "cell_type": "code",
   "execution_count": 13,
   "id": "18167d05-76af-4b80-8175-f271a3e2a844",
   "metadata": {},
   "outputs": [],
   "source": [
    "inf = np.inf"
   ]
  },
  {
   "cell_type": "code",
   "execution_count": 14,
   "id": "e432fb78-fbab-4e37-8ba5-8e946edc2578",
   "metadata": {},
   "outputs": [
    {
     "data": {
      "text/plain": [
       "True"
      ]
     },
     "execution_count": 14,
     "metadata": {},
     "output_type": "execute_result"
    }
   ],
   "source": [
    "np.isnan(nan)"
   ]
  },
  {
   "cell_type": "code",
   "execution_count": 15,
   "id": "6224abff-1a65-4d09-ab54-9f200f4cb56b",
   "metadata": {},
   "outputs": [
    {
     "data": {
      "text/plain": [
       "True"
      ]
     },
     "execution_count": 15,
     "metadata": {},
     "output_type": "execute_result"
    }
   ],
   "source": [
    "np.isinf(inf)"
   ]
  },
  {
   "cell_type": "code",
   "execution_count": 16,
   "id": "a79df065-da3f-40b5-ac86-7eb0d6f3d9c5",
   "metadata": {},
   "outputs": [],
   "source": [
    "item = np.array([1,2,3])"
   ]
  },
  {
   "cell_type": "code",
   "execution_count": 17,
   "id": "4a91cf28-1238-499d-b839-9e257466bb8b",
   "metadata": {},
   "outputs": [
    {
     "data": {
      "text/plain": [
       "array([ 5, 10, 15])"
      ]
     },
     "execution_count": 17,
     "metadata": {},
     "output_type": "execute_result"
    }
   ],
   "source": [
    "item*5"
   ]
  },
  {
   "cell_type": "code",
   "execution_count": 18,
   "id": "d14faad9-23ff-462b-a62a-d80490486d95",
   "metadata": {},
   "outputs": [
    {
     "data": {
      "text/plain": [
       "array([6, 7, 8])"
      ]
     },
     "execution_count": 18,
     "metadata": {},
     "output_type": "execute_result"
    }
   ],
   "source": [
    "item+5"
   ]
  },
  {
   "cell_type": "code",
   "execution_count": 19,
   "id": "2476beea-7d39-4dbe-88d5-8e43ab9b85a9",
   "metadata": {},
   "outputs": [
    {
     "data": {
      "text/plain": [
       "array([1, 2, 3])"
      ]
     },
     "execution_count": 19,
     "metadata": {},
     "output_type": "execute_result"
    }
   ],
   "source": [
    "item1 = np.array([1,2,3])\n",
    "item1"
   ]
  },
  {
   "cell_type": "code",
   "execution_count": 20,
   "id": "0dbd793a-7605-427f-a71f-131a5c4dae31",
   "metadata": {},
   "outputs": [
    {
     "data": {
      "text/plain": [
       "array([2, 4, 6])"
      ]
     },
     "execution_count": 20,
     "metadata": {},
     "output_type": "execute_result"
    }
   ],
   "source": [
    "item1 + item"
   ]
  },
  {
   "cell_type": "code",
   "execution_count": null,
   "id": "83a6bf2e-467d-4857-bff6-f491c13307fe",
   "metadata": {},
   "outputs": [],
   "source": []
  }
 ],
 "metadata": {
  "kernelspec": {
   "display_name": "Python 3 (ipykernel)",
   "language": "python",
   "name": "python3"
  },
  "language_info": {
   "codemirror_mode": {
    "name": "ipython",
    "version": 3
   },
   "file_extension": ".py",
   "mimetype": "text/x-python",
   "name": "python",
   "nbconvert_exporter": "python",
   "pygments_lexer": "ipython3",
   "version": "3.11.9"
  }
 },
 "nbformat": 4,
 "nbformat_minor": 5
}
