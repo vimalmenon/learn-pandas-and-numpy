{
 "cells": [
  {
   "cell_type": "markdown",
   "id": "1f1da363-126b-47fa-89ab-ac8cc87ed79e",
   "metadata": {},
   "source": [
    "# 02 - Load & Save data\n",
    "- Import Pandas\n",
    "- Create a simple DataFrame\n",
    "- Load JSON data\n",
    "- Load CSV data\n",
    "- Write to CSV\n",
    "- Convert data to JSON"
   ]
  },
  {
   "cell_type": "markdown",
   "id": "261ba1c3-f82d-4691-a6ef-33e6b72f08fe",
   "metadata": {},
   "source": [
    "## Import Pandas"
   ]
  },
  {
   "cell_type": "code",
   "execution_count": 1,
   "id": "1cfa3867-1598-46fd-bee2-f2002a446435",
   "metadata": {},
   "outputs": [],
   "source": [
    "import pandas as pd"
   ]
  },
  {
   "cell_type": "markdown",
   "id": "093f658b-ec39-4cc1-81b0-dff8f4a43d12",
   "metadata": {},
   "source": [
    "## Create simple DataFrame"
   ]
  },
  {
   "cell_type": "code",
   "execution_count": 2,
   "id": "a3391c77-ace8-49a4-8c78-6985ba309c4d",
   "metadata": {},
   "outputs": [
    {
     "data": {
      "text/html": [
       "<div>\n",
       "<style scoped>\n",
       "    .dataframe tbody tr th:only-of-type {\n",
       "        vertical-align: middle;\n",
       "    }\n",
       "\n",
       "    .dataframe tbody tr th {\n",
       "        vertical-align: top;\n",
       "    }\n",
       "\n",
       "    .dataframe thead th {\n",
       "        text-align: right;\n",
       "    }\n",
       "</style>\n",
       "<table border=\"1\" class=\"dataframe\">\n",
       "  <thead>\n",
       "    <tr style=\"text-align: right;\">\n",
       "      <th></th>\n",
       "      <th>firstName</th>\n",
       "      <th>lastName</th>\n",
       "      <th>age</th>\n",
       "    </tr>\n",
       "  </thead>\n",
       "  <tbody>\n",
       "    <tr>\n",
       "      <th>0</th>\n",
       "      <td>Vimal</td>\n",
       "      <td>Menon</td>\n",
       "      <td>38</td>\n",
       "    </tr>\n",
       "    <tr>\n",
       "      <th>1</th>\n",
       "      <td>Krishiv</td>\n",
       "      <td>Menon</td>\n",
       "      <td>1</td>\n",
       "    </tr>\n",
       "  </tbody>\n",
       "</table>\n",
       "</div>"
      ],
      "text/plain": [
       "  firstName lastName  age\n",
       "0     Vimal    Menon   38\n",
       "1   Krishiv    Menon    1"
      ]
     },
     "execution_count": 2,
     "metadata": {},
     "output_type": "execute_result"
    }
   ],
   "source": [
    "df = pd.DataFrame({\"firstName\": [\"Vimal\", \"Krishiv\"], \"lastName\": [\"Menon\", \"Menon\"], \"age\":[38,1]})\n",
    "df"
   ]
  },
  {
   "cell_type": "markdown",
   "id": "a7fd1719-fd37-419f-b653-506976408658",
   "metadata": {},
   "source": [
    "## Load JSON data"
   ]
  },
  {
   "cell_type": "code",
   "execution_count": 3,
   "id": "bbaa04f5-7509-4167-9d38-8d3c0023b357",
   "metadata": {
    "scrolled": true
   },
   "outputs": [
    {
     "data": {
      "text/html": [
       "<div>\n",
       "<style scoped>\n",
       "    .dataframe tbody tr th:only-of-type {\n",
       "        vertical-align: middle;\n",
       "    }\n",
       "\n",
       "    .dataframe tbody tr th {\n",
       "        vertical-align: top;\n",
       "    }\n",
       "\n",
       "    .dataframe thead th {\n",
       "        text-align: right;\n",
       "    }\n",
       "</style>\n",
       "<table border=\"1\" class=\"dataframe\">\n",
       "  <thead>\n",
       "    <tr style=\"text-align: right;\">\n",
       "      <th></th>\n",
       "      <th>firstName</th>\n",
       "      <th>lastName</th>\n",
       "      <th>age</th>\n",
       "    </tr>\n",
       "  </thead>\n",
       "  <tbody>\n",
       "    <tr>\n",
       "      <th>0</th>\n",
       "      <td>Vimal</td>\n",
       "      <td>Menon</td>\n",
       "      <td>38</td>\n",
       "    </tr>\n",
       "    <tr>\n",
       "      <th>1</th>\n",
       "      <td>Krishiv</td>\n",
       "      <td>Menon</td>\n",
       "      <td>1</td>\n",
       "    </tr>\n",
       "  </tbody>\n",
       "</table>\n",
       "</div>"
      ],
      "text/plain": [
       "  firstName lastName  age\n",
       "0     Vimal    Menon   38\n",
       "1   Krishiv    Menon    1"
      ]
     },
     "execution_count": 3,
     "metadata": {},
     "output_type": "execute_result"
    }
   ],
   "source": [
    "dict_data = [\n",
    "    {\n",
    "        \"firstName\": \"Vimal\",\n",
    "        \"lastName\": \"Menon\",\n",
    "        \"age\": 38\n",
    "    },\n",
    "    {\n",
    "        \"firstName\": \"Krishiv\",\n",
    "        \"lastName\": \"Menon\",\n",
    "        \"age\": 1\n",
    "    }\n",
    "]\n",
    "df = pd.json_normalize(dict_data)\n",
    "df"
   ]
  },
  {
   "cell_type": "markdown",
   "id": "a3d82700-a869-4a78-8506-c4e5ce02da49",
   "metadata": {},
   "source": [
    "## Load CSV data"
   ]
  },
  {
   "cell_type": "code",
   "execution_count": 4,
   "id": "ce1dcd45-1557-4983-8cd5-28465d43274b",
   "metadata": {},
   "outputs": [
    {
     "data": {
      "text/html": [
       "<div>\n",
       "<style scoped>\n",
       "    .dataframe tbody tr th:only-of-type {\n",
       "        vertical-align: middle;\n",
       "    }\n",
       "\n",
       "    .dataframe tbody tr th {\n",
       "        vertical-align: top;\n",
       "    }\n",
       "\n",
       "    .dataframe thead th {\n",
       "        text-align: right;\n",
       "    }\n",
       "</style>\n",
       "<table border=\"1\" class=\"dataframe\">\n",
       "  <thead>\n",
       "    <tr style=\"text-align: right;\">\n",
       "      <th></th>\n",
       "      <th>firstName</th>\n",
       "      <th>lastName</th>\n",
       "      <th>age</th>\n",
       "    </tr>\n",
       "  </thead>\n",
       "  <tbody>\n",
       "    <tr>\n",
       "      <th>0</th>\n",
       "      <td>Vimal</td>\n",
       "      <td>Menon</td>\n",
       "      <td>38</td>\n",
       "    </tr>\n",
       "    <tr>\n",
       "      <th>1</th>\n",
       "      <td>Krishiv</td>\n",
       "      <td>Menon</td>\n",
       "      <td>1</td>\n",
       "    </tr>\n",
       "    <tr>\n",
       "      <th>2</th>\n",
       "      <td>Nitya</td>\n",
       "      <td>Kurup</td>\n",
       "      <td>33</td>\n",
       "    </tr>\n",
       "  </tbody>\n",
       "</table>\n",
       "</div>"
      ],
      "text/plain": [
       "  firstName lastName  age\n",
       "0     Vimal    Menon   38\n",
       "1   Krishiv    Menon    1\n",
       "2     Nitya    Kurup   33"
      ]
     },
     "execution_count": 4,
     "metadata": {},
     "output_type": "execute_result"
    }
   ],
   "source": [
    "pd.read_csv(\"data.csv\")"
   ]
  },
  {
   "cell_type": "markdown",
   "id": "74abcbe2-f7ef-4e90-bdea-d21edbb90b9f",
   "metadata": {},
   "source": [
    "## Write to CSV"
   ]
  },
  {
   "cell_type": "code",
   "execution_count": 5,
   "id": "797722a8-e400-4cd6-a253-84e9be31ad7e",
   "metadata": {},
   "outputs": [],
   "source": [
    "df.to_csv(\"new.data.csv\")"
   ]
  },
  {
   "cell_type": "markdown",
   "id": "6f911a46-f9a8-450a-8c55-fad8f363582b",
   "metadata": {},
   "source": [
    "## Convert data to JSON"
   ]
  },
  {
   "cell_type": "code",
   "execution_count": 7,
   "id": "7066727f-e343-4819-a56a-88d8d543de85",
   "metadata": {},
   "outputs": [
    {
     "data": {
      "text/plain": [
       "'[{\"firstName\":\"Vimal\",\"lastName\":\"Menon\",\"age\":38},{\"firstName\":\"Krishiv\",\"lastName\":\"Menon\",\"age\":1}]'"
      ]
     },
     "execution_count": 7,
     "metadata": {},
     "output_type": "execute_result"
    }
   ],
   "source": [
    "df.to_json(orient ='records')"
   ]
  },
  {
   "cell_type": "code",
   "execution_count": null,
   "id": "8f50bc97-52c1-4037-bbff-1778c88e06ac",
   "metadata": {},
   "outputs": [],
   "source": []
  }
 ],
 "metadata": {
  "kernelspec": {
   "display_name": "Python 3 (ipykernel)",
   "language": "python",
   "name": "python3"
  },
  "language_info": {
   "codemirror_mode": {
    "name": "ipython",
    "version": 3
   },
   "file_extension": ".py",
   "mimetype": "text/x-python",
   "name": "python",
   "nbconvert_exporter": "python",
   "pygments_lexer": "ipython3",
   "version": "3.11.9"
  }
 },
 "nbformat": 4,
 "nbformat_minor": 5
}
