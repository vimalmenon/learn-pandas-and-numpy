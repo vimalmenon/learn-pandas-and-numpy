{
 "cells": [
  {
   "cell_type": "markdown",
   "id": "02cdeaf9-d98a-4872-a328-3a325a6b240f",
   "metadata": {},
   "source": [
    "# Important Links"
   ]
  },
  {
   "cell_type": "markdown",
   "id": "3dfa57a2-21be-49e3-b144-03ce713a16d9",
   "metadata": {},
   "source": [
    "[Math is fun](https://www.mathsisfun.com/)"
   ]
  }
 ],
 "metadata": {
  "kernelspec": {
   "display_name": "Python 3 (ipykernel)",
   "language": "python",
   "name": "python3"
  },
  "language_info": {
   "codemirror_mode": {
    "name": "ipython",
    "version": 3
   },
   "file_extension": ".py",
   "mimetype": "text/x-python",
   "name": "python",
   "nbconvert_exporter": "python",
   "pygments_lexer": "ipython3",
   "version": "3.11.9"
  }
 },
 "nbformat": 4,
 "nbformat_minor": 5
}
