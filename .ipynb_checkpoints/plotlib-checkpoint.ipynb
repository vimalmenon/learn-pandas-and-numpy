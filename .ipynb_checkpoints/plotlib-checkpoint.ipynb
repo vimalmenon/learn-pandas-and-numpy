{
 "cells": [
  {
   "cell_type": "code",
   "execution_count": 1,
   "id": "99ba9eb9-87e3-4735-8d6e-1e4a3a4eb0a8",
   "metadata": {},
   "outputs": [],
   "source": [
    "import numpy as np\n",
    "import pandas as pd\n",
    "import humps"
   ]
  },
  {
   "cell_type": "code",
   "execution_count": 3,
   "id": "434f2ec4-99cb-46dc-9b6f-45881b06fca9",
   "metadata": {},
   "outputs": [
    {
     "data": {
      "text/plain": [
       "array([68, 64, 49, ..., 57, 88, 31])"
      ]
     },
     "execution_count": 3,
     "metadata": {},
     "output_type": "execute_result"
    }
   ],
   "source": [
    "# %%timeit\n",
    "np.random.seed(seed_int)\n",
    "np.random.randint(low=0, high=101,size=(2000))"
   ]
  },
  {
   "cell_type": "code",
   "execution_count": 13,
   "id": "0488b287-1088-442b-8bf7-5bd931e23f37",
   "metadata": {},
   "outputs": [
    {
     "data": {
      "text/plain": [
       "7"
      ]
     },
     "execution_count": 13,
     "metadata": {},
     "output_type": "execute_result"
    }
   ],
   "source": [
    "\n"
   ]
  },
  {
   "cell_type": "code",
   "execution_count": 4,
   "id": "bd72bef5-d40e-4e2e-be35-829add31c77a",
   "metadata": {},
   "outputs": [
    {
     "data": {
      "text/plain": [
       "array(['E', 'A', 'B', 'F', 'A', 'D', 'B', 'C', 'H', 'A'], dtype='<U1')"
      ]
     },
     "execution_count": 4,
     "metadata": {},
     "output_type": "execute_result"
    }
   ],
   "source": [
    "# %%timeit\n",
    "np.random.seed(seed_int)\n",
    "np.random.choice([\"A\", \"B\", \"C\", \"D\", \"E\", \"F\", \"G\", \"H\", \"I\"], 10)"
   ]
  },
  {
   "cell_type": "code",
   "execution_count": 5,
   "id": "12824f33-7807-4be8-8ee3-a0ec67bb50ad",
   "metadata": {},
   "outputs": [
    {
     "data": {
      "text/plain": [
       "array(['a', 'b', 'c', 'd', 'e', 'f', 'g', 'h', 'i', 'j', 'k', 'l', 'm',\n",
       "       'n', 'o', 'p', 'q', 'r', 's', 't', 'u', 'v', 'w', 'x', 'y', 'z'],\n",
       "      dtype='<U1')"
      ]
     },
     "execution_count": 5,
     "metadata": {},
     "output_type": "execute_result"
    }
   ],
   "source": [
    "np.random.seed(seed_int)\n",
    "alphabets = np.array([\"a\", \"b\", \"c\", \"d\", \"e\", \"f\", \"g\", \"h\", \"i\", \"j\", \"k\", \"l\", \"m\", \"n\", \"o\", \"p\", \"q\", \"r\", \"s\", \"t\", \"u\", \"v\", \"w\", \"x\", \"y\", \"z\"])\n",
    "alphabets"
   ]
  },
  {
   "cell_type": "code",
   "execution_count": 21,
   "id": "37d4dae0-217d-4240-9f84-fbe84dda5fa5",
   "metadata": {},
   "outputs": [
    {
     "data": {
      "text/plain": [
       "'Qwvvv'"
      ]
     },
     "execution_count": 21,
     "metadata": {},
     "output_type": "execute_result"
    }
   ],
   "source": [
    "# np.random.seed(seed_int)\n",
    "name = np.random.choice(alphabets, np.random.randint(low=4, high=10))\n",
    "humps.pascalize(\"\".join(name))"
   ]
  },
  {
   "cell_type": "code",
   "execution_count": null,
   "id": "4c2a31c5-482f-432c-aa5e-b0bd1d6f895c",
   "metadata": {},
   "outputs": [],
   "source": []
  }
 ],
 "metadata": {
  "kernelspec": {
   "display_name": "Python 3 (ipykernel)",
   "language": "python",
   "name": "python3"
  },
  "language_info": {
   "codemirror_mode": {
    "name": "ipython",
    "version": 3
   },
   "file_extension": ".py",
   "mimetype": "text/x-python",
   "name": "python",
   "nbconvert_exporter": "python",
   "pygments_lexer": "ipython3",
   "version": "3.11.9"
  }
 },
 "nbformat": 4,
 "nbformat_minor": 5
}
