{
 "cells": [
  {
   "cell_type": "code",
   "execution_count": 1,
   "id": "99ba9eb9-87e3-4735-8d6e-1e4a3a4eb0a8",
   "metadata": {},
   "outputs": [],
   "source": [
    "import numpy as np\n",
    "import pandas as pd"
   ]
  },
  {
   "cell_type": "code",
   "execution_count": 2,
   "id": "03a9f808-8a58-4906-85a2-d97da5b0ac71",
   "metadata": {},
   "outputs": [],
   "source": [
    "seed_int = 43"
   ]
  },
  {
   "cell_type": "code",
   "execution_count": 3,
   "id": "434f2ec4-99cb-46dc-9b6f-45881b06fca9",
   "metadata": {},
   "outputs": [
    {
     "data": {
      "text/plain": [
       "array([68, 64, 49, ..., 57, 88, 31])"
      ]
     },
     "execution_count": 3,
     "metadata": {},
     "output_type": "execute_result"
    }
   ],
   "source": [
    "# %%timeit\n",
    "np.random.seed(seed_int)\n",
    "np.random.randint(low=0, high=101,size=(2000))"
   ]
  },
  {
   "cell_type": "code",
   "execution_count": 4,
   "id": "bd72bef5-d40e-4e2e-be35-829add31c77a",
   "metadata": {},
   "outputs": [
    {
     "data": {
      "text/plain": [
       "array(['E', 'A', 'B', 'F', 'A', 'D', 'B', 'C', 'H', 'A'], dtype='<U1')"
      ]
     },
     "execution_count": 4,
     "metadata": {},
     "output_type": "execute_result"
    }
   ],
   "source": [
    "# %%timeit\n",
    "np.random.seed(seed_int)\n",
    "np.random.choice([\"A\", \"B\", \"C\", \"D\", \"E\", \"F\", \"G\", \"H\", \"I\"], 10)"
   ]
  },
  {
   "cell_type": "code",
   "execution_count": 5,
   "id": "12824f33-7807-4be8-8ee3-a0ec67bb50ad",
   "metadata": {},
   "outputs": [
    {
     "data": {
      "text/plain": [
       "array(['A', 'B', 'C', 'D', 'E', 'F', 'G', 'H', 'I', 'J', 'K', 'L', 'M',\n",
       "       'N', 'O', 'P', 'Q', 'R', 'S', 'T', 'U', 'V', 'W', 'X', 'Y', 'Z'],\n",
       "      dtype='<U1')"
      ]
     },
     "execution_count": 5,
     "metadata": {},
     "output_type": "execute_result"
    }
   ],
   "source": [
    "np.random.seed(seed_int)\n",
    "alpha = np.array([\"A\", \"B\", \"C\", \"D\", \"E\", \"F\", \"G\", \"H\", \"I\", \"J\", \"K\", \"L\", \"M\", \"N\", \"O\", \"P\", \"Q\", \"R\", \"S\", \"T\", \"U\", \"V\", \"W\", \"X\", \"Y\", \"Z\"])\n",
    "alpha"
   ]
  },
  {
   "cell_type": "code",
   "execution_count": 6,
   "id": "37d4dae0-217d-4240-9f84-fbe84dda5fa5",
   "metadata": {},
   "outputs": [
    {
     "data": {
      "text/plain": [
       "array(['E', 'A', 'R', 'V', 'Q', 'T', 'R', 'C', 'O', 'X'], dtype='<U1')"
      ]
     },
     "execution_count": 6,
     "metadata": {},
     "output_type": "execute_result"
    }
   ],
   "source": [
    "np.random.seed(seed_int)\n",
    "np.random.choice(alpha, 10)"
   ]
  },
  {
   "cell_type": "code",
   "execution_count": 7,
   "id": "0b858375-74b7-45e2-a988-60d219909580",
   "metadata": {},
   "outputs": [
    {
     "data": {
      "text/plain": [
       "array(['E', 'A', 'R', 'V', 'Q', 'T', 'R', 'C', 'O', 'X'], dtype='<U1')"
      ]
     },
     "execution_count": 7,
     "metadata": {},
     "output_type": "execute_result"
    }
   ],
   "source": [
    "np.random.seed(seed_int)\n",
    "np.random.choice(alpha, 10)"
   ]
  },
  {
   "cell_type": "code",
   "execution_count": null,
   "id": "a26eba29-7116-4083-9096-8efef92e0184",
   "metadata": {},
   "outputs": [],
   "source": []
  }
 ],
 "metadata": {
  "kernelspec": {
   "display_name": "Python 3 (ipykernel)",
   "language": "python",
   "name": "python3"
  },
  "language_info": {
   "codemirror_mode": {
    "name": "ipython",
    "version": 3
   },
   "file_extension": ".py",
   "mimetype": "text/x-python",
   "name": "python",
   "nbconvert_exporter": "python",
   "pygments_lexer": "ipython3",
   "version": "3.11.9"
  }
 },
 "nbformat": 4,
 "nbformat_minor": 5
}
