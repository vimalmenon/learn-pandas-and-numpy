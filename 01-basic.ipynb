{
 "cells": [
  {
   "cell_type": "markdown",
   "id": "7323c953-c7d0-4336-bcb3-2a8a70633264",
   "metadata": {},
   "source": [
    "# 01 - Basic of Pandas\n",
    " - [Install Pandas](#install_pandas) \n",
    " - [Import Pandas](#import_pandas)\n",
    " - [How to check Shape](#how_to_check_shape)\n",
    " - Check Datatype"
   ]
  },
  {
   "cell_type": "markdown",
   "id": "a49726d6-99b5-460e-9782-f0c124aadb79",
   "metadata": {},
   "source": [
    "## <a id='install_pandas'>Install Pandas</a>"
   ]
  },
  {
   "cell_type": "code",
   "execution_count": 1,
   "id": "6b876514-fb3a-44f4-9903-dccd977b601f",
   "metadata": {},
   "outputs": [
    {
     "name": "stdout",
     "output_type": "stream",
     "text": [
      "Requirement already satisfied: pandas in ./.venv/lib/python3.11/site-packages (2.2.2)\n",
      "Requirement already satisfied: numpy>=1.23.2 in ./.venv/lib/python3.11/site-packages (from pandas) (1.26.4)\n",
      "Requirement already satisfied: python-dateutil>=2.8.2 in ./.venv/lib/python3.11/site-packages (from pandas) (2.9.0.post0)\n",
      "Requirement already satisfied: pytz>=2020.1 in ./.venv/lib/python3.11/site-packages (from pandas) (2024.1)\n",
      "Requirement already satisfied: tzdata>=2022.7 in ./.venv/lib/python3.11/site-packages (from pandas) (2024.1)\n",
      "Requirement already satisfied: six>=1.5 in ./.venv/lib/python3.11/site-packages (from python-dateutil>=2.8.2->pandas) (1.16.0)\n"
     ]
    }
   ],
   "source": [
    "!pip install pandas"
   ]
  },
  {
   "cell_type": "markdown",
   "id": "042502ee-15ac-4f14-b5b6-7e3ce167947c",
   "metadata": {},
   "source": [
    "## <a id='import_pandas'>Import Pandas</a>"
   ]
  },
  {
   "cell_type": "code",
   "execution_count": 2,
   "id": "e3aa956c-6637-430c-8f19-36b53fafecce",
   "metadata": {},
   "outputs": [],
   "source": [
    "import pandas as pd"
   ]
  },
  {
   "cell_type": "markdown",
   "id": "30949bdb-1008-48d0-81e3-617c3a465c1c",
   "metadata": {},
   "source": [
    "## Check Pandas version"
   ]
  },
  {
   "cell_type": "code",
   "execution_count": 3,
   "id": "2cf570e6-2dc6-45f9-96a5-6f243c714f76",
   "metadata": {},
   "outputs": [
    {
     "data": {
      "text/plain": [
       "'2.2.2'"
      ]
     },
     "execution_count": 3,
     "metadata": {},
     "output_type": "execute_result"
    }
   ],
   "source": [
    "pd.__version__"
   ]
  },
  {
   "cell_type": "markdown",
   "id": "0a0e9291-2f71-4908-b2d0-eee1d04faa7b",
   "metadata": {},
   "source": [
    "## How to create Series"
   ]
  },
  {
   "cell_type": "code",
   "execution_count": 4,
   "id": "a8778a82-19eb-469f-8a56-c99e08a6f1c6",
   "metadata": {},
   "outputs": [
    {
     "data": {
      "text/plain": [
       "0    1\n",
       "1    2\n",
       "2    3\n",
       "3    4\n",
       "4    5\n",
       "dtype: int64"
      ]
     },
     "execution_count": 4,
     "metadata": {},
     "output_type": "execute_result"
    }
   ],
   "source": [
    "df = pd.Series([1,2,3,4,5])\n",
    "df"
   ]
  },
  {
   "cell_type": "markdown",
   "id": "ce581ccf-a3fa-43a1-9afd-4184d7ad8c30",
   "metadata": {},
   "source": [
    "## <a id='how_to_check_shape'>How to check Shape</a>"
   ]
  },
  {
   "cell_type": "code",
   "execution_count": 5,
   "id": "44002e9d-77cc-4b0e-9bc2-f8a0d42d9f76",
   "metadata": {},
   "outputs": [
    {
     "data": {
      "text/plain": [
       "(5,)"
      ]
     },
     "execution_count": 5,
     "metadata": {},
     "output_type": "execute_result"
    }
   ],
   "source": [
    "df.shape"
   ]
  },
  {
   "cell_type": "markdown",
   "id": "9b7270d2-723a-482b-9a5a-22c5676ec1b4",
   "metadata": {},
   "source": [
    "## How to create DataFrame"
   ]
  },
  {
   "cell_type": "code",
   "execution_count": 6,
   "id": "5158d866-8acc-41f9-8388-7cc19a05858d",
   "metadata": {},
   "outputs": [
    {
     "data": {
      "text/html": [
       "<div>\n",
       "<style scoped>\n",
       "    .dataframe tbody tr th:only-of-type {\n",
       "        vertical-align: middle;\n",
       "    }\n",
       "\n",
       "    .dataframe tbody tr th {\n",
       "        vertical-align: top;\n",
       "    }\n",
       "\n",
       "    .dataframe thead th {\n",
       "        text-align: right;\n",
       "    }\n",
       "</style>\n",
       "<table border=\"1\" class=\"dataframe\">\n",
       "  <thead>\n",
       "    <tr style=\"text-align: right;\">\n",
       "      <th></th>\n",
       "      <th>firstName</th>\n",
       "      <th>lastName</th>\n",
       "      <th>age</th>\n",
       "      <th>country</th>\n",
       "      <th>sex</th>\n",
       "    </tr>\n",
       "  </thead>\n",
       "  <tbody>\n",
       "    <tr>\n",
       "      <th>0</th>\n",
       "      <td>Jane</td>\n",
       "      <td>Smith</td>\n",
       "      <td>25</td>\n",
       "      <td>USA</td>\n",
       "      <td>Male</td>\n",
       "    </tr>\n",
       "    <tr>\n",
       "      <th>1</th>\n",
       "      <td>Jake</td>\n",
       "      <td>Doe</td>\n",
       "      <td>28</td>\n",
       "      <td>USA</td>\n",
       "      <td>Male</td>\n",
       "    </tr>\n",
       "    <tr>\n",
       "      <th>2</th>\n",
       "      <td>Ben</td>\n",
       "      <td>Lee</td>\n",
       "      <td>29</td>\n",
       "      <td>China</td>\n",
       "      <td>Male</td>\n",
       "    </tr>\n",
       "    <tr>\n",
       "      <th>3</th>\n",
       "      <td>Aaron</td>\n",
       "      <td>White</td>\n",
       "      <td>35</td>\n",
       "      <td>Hong Kong</td>\n",
       "      <td>Male</td>\n",
       "    </tr>\n",
       "    <tr>\n",
       "      <th>4</th>\n",
       "      <td>Jim</td>\n",
       "      <td>Matthew</td>\n",
       "      <td>33</td>\n",
       "      <td>India</td>\n",
       "      <td>Male</td>\n",
       "    </tr>\n",
       "    <tr>\n",
       "      <th>5</th>\n",
       "      <td>Mark</td>\n",
       "      <td>Ng</td>\n",
       "      <td>45</td>\n",
       "      <td>China</td>\n",
       "      <td>Male</td>\n",
       "    </tr>\n",
       "    <tr>\n",
       "      <th>6</th>\n",
       "      <td>Vimal</td>\n",
       "      <td>Menon</td>\n",
       "      <td>40</td>\n",
       "      <td>Hong Kong</td>\n",
       "      <td>Male</td>\n",
       "    </tr>\n",
       "    <tr>\n",
       "      <th>7</th>\n",
       "      <td>Jane</td>\n",
       "      <td>Doe</td>\n",
       "      <td>22</td>\n",
       "      <td>UK</td>\n",
       "      <td>Female</td>\n",
       "    </tr>\n",
       "    <tr>\n",
       "      <th>8</th>\n",
       "      <td>Jack</td>\n",
       "      <td>Smith</td>\n",
       "      <td>30</td>\n",
       "      <td>Spain</td>\n",
       "      <td>Male</td>\n",
       "    </tr>\n",
       "  </tbody>\n",
       "</table>\n",
       "</div>"
      ],
      "text/plain": [
       "  firstName lastName  age    country     sex\n",
       "0      Jane    Smith   25        USA    Male\n",
       "1      Jake      Doe   28        USA    Male\n",
       "2       Ben      Lee   29      China    Male\n",
       "3     Aaron    White   35  Hong Kong    Male\n",
       "4       Jim  Matthew   33      India    Male\n",
       "5      Mark       Ng   45      China    Male\n",
       "6     Vimal    Menon   40  Hong Kong    Male\n",
       "7      Jane      Doe   22         UK  Female\n",
       "8      Jack    Smith   30      Spain    Male"
      ]
     },
     "execution_count": 6,
     "metadata": {},
     "output_type": "execute_result"
    }
   ],
   "source": [
    "df = pd.DataFrame(\n",
    "    {\n",
    "        \"firstName\": [\"Jane\", \"Jake\", \"Ben\", \"Aaron\", \"Jim\", \"Mark\", \"Vimal\", \"Jane\", \"Jack\"],\n",
    "        \"lastName\": [\"Smith\", \"Doe\", \"Lee\", \"White\", \"Matthew\", \"Ng\", \"Menon\", \"Doe\", \"Smith\"],\n",
    "        \"age\":[25, 28, 29, 35, 33, 45, 40, 22, 30],\n",
    "        \"country\":[\"USA\", \"USA\", \"China\", \"Hong Kong\", \"India\", \"China\", \"Hong Kong\", \"UK\", \"Spain\"],\n",
    "        \"sex\": [\"Male\", \"Male\", \"Male\", \"Male\", \"Male\", \"Male\", \"Male\", \"Female\", \"Male\"]\n",
    "    }\n",
    ")\n",
    "df"
   ]
  },
  {
   "cell_type": "markdown",
   "id": "d766fe4c-872b-4372-92f7-7eaba2cfcf35",
   "metadata": {},
   "source": [
    "## How to check Shape"
   ]
  },
  {
   "cell_type": "code",
   "execution_count": 7,
   "id": "c0221ea4-6059-4814-b055-770de169d7c4",
   "metadata": {},
   "outputs": [
    {
     "data": {
      "text/plain": [
       "(9, 5)"
      ]
     },
     "execution_count": 7,
     "metadata": {},
     "output_type": "execute_result"
    }
   ],
   "source": [
    "df.shape"
   ]
  },
  {
   "cell_type": "markdown",
   "id": "5b7d1ff9-711b-4791-9d11-b5aea2700822",
   "metadata": {},
   "source": [
    "## How to get Info"
   ]
  },
  {
   "cell_type": "code",
   "execution_count": 8,
   "id": "e21f9ac9-fc69-423a-bb89-32d79cc05db0",
   "metadata": {
    "scrolled": true
   },
   "outputs": [
    {
     "name": "stdout",
     "output_type": "stream",
     "text": [
      "<class 'pandas.core.frame.DataFrame'>\n",
      "RangeIndex: 9 entries, 0 to 8\n",
      "Data columns (total 5 columns):\n",
      " #   Column     Non-Null Count  Dtype \n",
      "---  ------     --------------  ----- \n",
      " 0   firstName  9 non-null      object\n",
      " 1   lastName   9 non-null      object\n",
      " 2   age        9 non-null      int64 \n",
      " 3   country    9 non-null      object\n",
      " 4   sex        9 non-null      object\n",
      "dtypes: int64(1), object(4)\n",
      "memory usage: 492.0+ bytes\n"
     ]
    }
   ],
   "source": [
    "df.info()"
   ]
  },
  {
   "cell_type": "markdown",
   "id": "489d6dd1-4836-4b33-af64-39335b6c315c",
   "metadata": {},
   "source": [
    "## How to use describe"
   ]
  },
  {
   "cell_type": "code",
   "execution_count": 9,
   "id": "4c54ef88-752f-4ab8-bc5a-23a8d4772975",
   "metadata": {
    "scrolled": true
   },
   "outputs": [
    {
     "data": {
      "text/html": [
       "<div>\n",
       "<style scoped>\n",
       "    .dataframe tbody tr th:only-of-type {\n",
       "        vertical-align: middle;\n",
       "    }\n",
       "\n",
       "    .dataframe tbody tr th {\n",
       "        vertical-align: top;\n",
       "    }\n",
       "\n",
       "    .dataframe thead th {\n",
       "        text-align: right;\n",
       "    }\n",
       "</style>\n",
       "<table border=\"1\" class=\"dataframe\">\n",
       "  <thead>\n",
       "    <tr style=\"text-align: right;\">\n",
       "      <th></th>\n",
       "      <th>age</th>\n",
       "    </tr>\n",
       "  </thead>\n",
       "  <tbody>\n",
       "    <tr>\n",
       "      <th>count</th>\n",
       "      <td>9.000000</td>\n",
       "    </tr>\n",
       "    <tr>\n",
       "      <th>mean</th>\n",
       "      <td>31.888889</td>\n",
       "    </tr>\n",
       "    <tr>\n",
       "      <th>std</th>\n",
       "      <td>7.253352</td>\n",
       "    </tr>\n",
       "    <tr>\n",
       "      <th>min</th>\n",
       "      <td>22.000000</td>\n",
       "    </tr>\n",
       "    <tr>\n",
       "      <th>25%</th>\n",
       "      <td>28.000000</td>\n",
       "    </tr>\n",
       "    <tr>\n",
       "      <th>50%</th>\n",
       "      <td>30.000000</td>\n",
       "    </tr>\n",
       "    <tr>\n",
       "      <th>75%</th>\n",
       "      <td>35.000000</td>\n",
       "    </tr>\n",
       "    <tr>\n",
       "      <th>max</th>\n",
       "      <td>45.000000</td>\n",
       "    </tr>\n",
       "  </tbody>\n",
       "</table>\n",
       "</div>"
      ],
      "text/plain": [
       "             age\n",
       "count   9.000000\n",
       "mean   31.888889\n",
       "std     7.253352\n",
       "min    22.000000\n",
       "25%    28.000000\n",
       "50%    30.000000\n",
       "75%    35.000000\n",
       "max    45.000000"
      ]
     },
     "execution_count": 9,
     "metadata": {},
     "output_type": "execute_result"
    }
   ],
   "source": [
    "df.describe()"
   ]
  },
  {
   "cell_type": "markdown",
   "id": "08bf5fac-8557-4498-b4e4-342230b75374",
   "metadata": {},
   "source": [
    "## How to get columns"
   ]
  },
  {
   "cell_type": "code",
   "execution_count": 10,
   "id": "318821e7-db81-4a7b-9afd-7c81f0e0f24e",
   "metadata": {},
   "outputs": [
    {
     "data": {
      "text/plain": [
       "Index(['firstName', 'lastName', 'age', 'country', 'sex'], dtype='object')"
      ]
     },
     "execution_count": 10,
     "metadata": {},
     "output_type": "execute_result"
    }
   ],
   "source": [
    "df.columns"
   ]
  },
  {
   "cell_type": "code",
   "execution_count": 11,
   "id": "a0fd065d-3bfe-4b9f-b6a1-2decb65a52fc",
   "metadata": {},
   "outputs": [
    {
     "data": {
      "text/plain": [
       "Index(['firstName', 'lastName', 'age', 'country', 'sex'], dtype='object')"
      ]
     },
     "execution_count": 11,
     "metadata": {},
     "output_type": "execute_result"
    }
   ],
   "source": [
    "df.keys()"
   ]
  },
  {
   "cell_type": "code",
   "execution_count": 12,
   "id": "239447e3-f0b2-4ef6-b9a0-924271f7e5d1",
   "metadata": {},
   "outputs": [
    {
     "data": {
      "text/plain": [
       "[RangeIndex(start=0, stop=9, step=1),\n",
       " Index(['firstName', 'lastName', 'age', 'country', 'sex'], dtype='object')]"
      ]
     },
     "execution_count": 12,
     "metadata": {},
     "output_type": "execute_result"
    }
   ],
   "source": [
    "df.axes"
   ]
  },
  {
   "cell_type": "markdown",
   "id": "12f65582-6b3f-4e6e-9d30-5bd95f585213",
   "metadata": {},
   "source": [
    "## How to get Index"
   ]
  },
  {
   "cell_type": "code",
   "execution_count": 13,
   "id": "337cc805-8b14-4909-85fe-2786d0c5e9b1",
   "metadata": {},
   "outputs": [
    {
     "data": {
      "text/plain": [
       "RangeIndex(start=0, stop=9, step=1)"
      ]
     },
     "execution_count": 13,
     "metadata": {},
     "output_type": "execute_result"
    }
   ],
   "source": [
    "df.index"
   ]
  },
  {
   "cell_type": "markdown",
   "id": "e5fcb9ee-ea17-48ac-afe5-e859508c624c",
   "metadata": {},
   "source": [
    "## Check Datatype for each column"
   ]
  },
  {
   "cell_type": "code",
   "execution_count": 14,
   "id": "15037061-4ede-4c13-9d6f-cd775688327c",
   "metadata": {},
   "outputs": [
    {
     "data": {
      "text/plain": [
       "firstName    object\n",
       "lastName     object\n",
       "age           int64\n",
       "country      object\n",
       "sex          object\n",
       "dtype: object"
      ]
     },
     "execution_count": 14,
     "metadata": {},
     "output_type": "execute_result"
    }
   ],
   "source": [
    "df.dtypes"
   ]
  },
  {
   "cell_type": "markdown",
   "id": "b50d0c51-d2bd-40b2-b12e-b8b99e38a008",
   "metadata": {},
   "source": [
    "## Check the dimension"
   ]
  },
  {
   "cell_type": "code",
   "execution_count": 15,
   "id": "a93d15b6-5f60-4575-9549-9e81d8e0fce6",
   "metadata": {},
   "outputs": [
    {
     "data": {
      "text/plain": [
       "2"
      ]
     },
     "execution_count": 15,
     "metadata": {},
     "output_type": "execute_result"
    }
   ],
   "source": [
    "df.ndim"
   ]
  },
  {
   "cell_type": "markdown",
   "id": "57eb0a08-6d5b-45bb-92a6-f579bd985ce4",
   "metadata": {},
   "source": [
    "## Get top data\n"
   ]
  },
  {
   "cell_type": "code",
   "execution_count": 16,
   "id": "1679e197-f7a9-4a98-af90-43406dc530b8",
   "metadata": {},
   "outputs": [
    {
     "data": {
      "text/html": [
       "<div>\n",
       "<style scoped>\n",
       "    .dataframe tbody tr th:only-of-type {\n",
       "        vertical-align: middle;\n",
       "    }\n",
       "\n",
       "    .dataframe tbody tr th {\n",
       "        vertical-align: top;\n",
       "    }\n",
       "\n",
       "    .dataframe thead th {\n",
       "        text-align: right;\n",
       "    }\n",
       "</style>\n",
       "<table border=\"1\" class=\"dataframe\">\n",
       "  <thead>\n",
       "    <tr style=\"text-align: right;\">\n",
       "      <th></th>\n",
       "      <th>firstName</th>\n",
       "      <th>lastName</th>\n",
       "      <th>age</th>\n",
       "      <th>country</th>\n",
       "      <th>sex</th>\n",
       "    </tr>\n",
       "  </thead>\n",
       "  <tbody>\n",
       "    <tr>\n",
       "      <th>0</th>\n",
       "      <td>Jane</td>\n",
       "      <td>Smith</td>\n",
       "      <td>25</td>\n",
       "      <td>USA</td>\n",
       "      <td>Male</td>\n",
       "    </tr>\n",
       "    <tr>\n",
       "      <th>1</th>\n",
       "      <td>Jake</td>\n",
       "      <td>Doe</td>\n",
       "      <td>28</td>\n",
       "      <td>USA</td>\n",
       "      <td>Male</td>\n",
       "    </tr>\n",
       "    <tr>\n",
       "      <th>2</th>\n",
       "      <td>Ben</td>\n",
       "      <td>Lee</td>\n",
       "      <td>29</td>\n",
       "      <td>China</td>\n",
       "      <td>Male</td>\n",
       "    </tr>\n",
       "  </tbody>\n",
       "</table>\n",
       "</div>"
      ],
      "text/plain": [
       "  firstName lastName  age country   sex\n",
       "0      Jane    Smith   25     USA  Male\n",
       "1      Jake      Doe   28     USA  Male\n",
       "2       Ben      Lee   29   China  Male"
      ]
     },
     "execution_count": 16,
     "metadata": {},
     "output_type": "execute_result"
    }
   ],
   "source": [
    "df.head(3)"
   ]
  },
  {
   "cell_type": "markdown",
   "id": "e304a751-7daf-424a-9d5f-4f51a22e4e96",
   "metadata": {},
   "source": [
    "## Get last data"
   ]
  },
  {
   "cell_type": "code",
   "execution_count": 17,
   "id": "627c610f-572b-4a4b-a893-b586912943da",
   "metadata": {},
   "outputs": [
    {
     "data": {
      "text/html": [
       "<div>\n",
       "<style scoped>\n",
       "    .dataframe tbody tr th:only-of-type {\n",
       "        vertical-align: middle;\n",
       "    }\n",
       "\n",
       "    .dataframe tbody tr th {\n",
       "        vertical-align: top;\n",
       "    }\n",
       "\n",
       "    .dataframe thead th {\n",
       "        text-align: right;\n",
       "    }\n",
       "</style>\n",
       "<table border=\"1\" class=\"dataframe\">\n",
       "  <thead>\n",
       "    <tr style=\"text-align: right;\">\n",
       "      <th></th>\n",
       "      <th>firstName</th>\n",
       "      <th>lastName</th>\n",
       "      <th>age</th>\n",
       "      <th>country</th>\n",
       "      <th>sex</th>\n",
       "    </tr>\n",
       "  </thead>\n",
       "  <tbody>\n",
       "    <tr>\n",
       "      <th>6</th>\n",
       "      <td>Vimal</td>\n",
       "      <td>Menon</td>\n",
       "      <td>40</td>\n",
       "      <td>Hong Kong</td>\n",
       "      <td>Male</td>\n",
       "    </tr>\n",
       "    <tr>\n",
       "      <th>7</th>\n",
       "      <td>Jane</td>\n",
       "      <td>Doe</td>\n",
       "      <td>22</td>\n",
       "      <td>UK</td>\n",
       "      <td>Female</td>\n",
       "    </tr>\n",
       "    <tr>\n",
       "      <th>8</th>\n",
       "      <td>Jack</td>\n",
       "      <td>Smith</td>\n",
       "      <td>30</td>\n",
       "      <td>Spain</td>\n",
       "      <td>Male</td>\n",
       "    </tr>\n",
       "  </tbody>\n",
       "</table>\n",
       "</div>"
      ],
      "text/plain": [
       "  firstName lastName  age    country     sex\n",
       "6     Vimal    Menon   40  Hong Kong    Male\n",
       "7      Jane      Doe   22         UK  Female\n",
       "8      Jack    Smith   30      Spain    Male"
      ]
     },
     "execution_count": 17,
     "metadata": {},
     "output_type": "execute_result"
    }
   ],
   "source": [
    "df.tail(3)"
   ]
  },
  {
   "cell_type": "markdown",
   "id": "d6391b79-44c5-4e7c-9b67-b3cd46a27a5b",
   "metadata": {},
   "source": [
    "## Get Memory Usage"
   ]
  },
  {
   "cell_type": "code",
   "execution_count": 19,
   "id": "5e54745c-7c8e-4046-86b1-a2210e7cf238",
   "metadata": {},
   "outputs": [
    {
     "data": {
      "text/plain": [
       "72"
      ]
     },
     "execution_count": 19,
     "metadata": {},
     "output_type": "execute_result"
    }
   ],
   "source": [
    "df[\"firstName\"].memory_usage(index=False)"
   ]
  },
  {
   "cell_type": "code",
   "execution_count": 20,
   "id": "c548caa6-6926-4c30-82ed-98564dfd9bb2",
   "metadata": {},
   "outputs": [
    {
     "ename": "TypeError",
     "evalue": "NDFrame.first() missing 1 required positional argument: 'offset'",
     "output_type": "error",
     "traceback": [
      "\u001b[0;31m---------------------------------------------------------------------------\u001b[0m",
      "\u001b[0;31mTypeError\u001b[0m                                 Traceback (most recent call last)",
      "Cell \u001b[0;32mIn[20], line 1\u001b[0m\n\u001b[0;32m----> 1\u001b[0m \u001b[43mdf\u001b[49m\u001b[38;5;241;43m.\u001b[39;49m\u001b[43mfirst\u001b[49m\u001b[43m(\u001b[49m\u001b[43m)\u001b[49m\n",
      "\u001b[0;31mTypeError\u001b[0m: NDFrame.first() missing 1 required positional argument: 'offset'"
     ]
    }
   ],
   "source": []
  }
 ],
 "metadata": {
  "kernelspec": {
   "display_name": "Python 3 (ipykernel)",
   "language": "python",
   "name": "python3"
  },
  "language_info": {
   "codemirror_mode": {
    "name": "ipython",
    "version": 3
   },
   "file_extension": ".py",
   "mimetype": "text/x-python",
   "name": "python",
   "nbconvert_exporter": "python",
   "pygments_lexer": "ipython3",
   "version": "3.11.9"
  }
 },
 "nbformat": 4,
 "nbformat_minor": 5
}
