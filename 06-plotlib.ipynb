{
 "cells": [
  {
   "cell_type": "code",
   "execution_count": 1,
   "id": "99ba9eb9-87e3-4735-8d6e-1e4a3a4eb0a8",
   "metadata": {},
   "outputs": [],
   "source": [
    "import numpy as np\n",
    "import pandas as pd\n",
    "import humps"
   ]
  },
  {
   "cell_type": "code",
   "execution_count": 2,
   "id": "76b32540-e77f-4cb7-a897-9bf9987c2780",
   "metadata": {},
   "outputs": [],
   "source": [
    "seed_int = 45\n",
    "rows = 50\n",
    "\n",
    "# dumb, average, smart, genius\n",
    "dump = (5,25)\n",
    "average = (26,60)\n",
    "smart = (61,80)\n",
    "genius = (81,101)"
   ]
  },
  {
   "cell_type": "code",
   "execution_count": 3,
   "id": "434f2ec4-99cb-46dc-9b6f-45881b06fca9",
   "metadata": {},
   "outputs": [
    {
     "data": {
      "text/plain": [
       "array([75, 30,  3, ..., 18, 73, 92])"
      ]
     },
     "execution_count": 3,
     "metadata": {},
     "output_type": "execute_result"
    }
   ],
   "source": [
    "# %%timeit\n",
    "np.random.seed(seed_int)\n",
    "np.random.randint(low=0, high=101,size=(2000))"
   ]
  },
  {
   "cell_type": "code",
   "execution_count": 4,
   "id": "bd72bef5-d40e-4e2e-be35-829add31c77a",
   "metadata": {},
   "outputs": [
    {
     "data": {
      "text/plain": [
       "array(['D', 'A', 'F', 'D', 'E', 'I', 'B', 'F', 'G', 'I'], dtype='<U1')"
      ]
     },
     "execution_count": 4,
     "metadata": {},
     "output_type": "execute_result"
    }
   ],
   "source": [
    "# %%timeit\n",
    "np.random.seed(seed_int)\n",
    "np.random.choice([\"A\", \"B\", \"C\", \"D\", \"E\", \"F\", \"G\", \"H\", \"I\"], 10)"
   ]
  },
  {
   "cell_type": "code",
   "execution_count": 5,
   "id": "12824f33-7807-4be8-8ee3-a0ec67bb50ad",
   "metadata": {},
   "outputs": [
    {
     "data": {
      "text/plain": [
       "array(['a', 'b', 'd', 'e', 'f', 'g', 'h', 'i', 'k', 'l', 'm', 'n', 'o',\n",
       "       'p', 'q', 'r', 's', 't', 'u'], dtype='<U1')"
      ]
     },
     "execution_count": 5,
     "metadata": {},
     "output_type": "execute_result"
    }
   ],
   "source": [
    "np.random.seed(seed_int)\n",
    "alphabets = np.array([\"a\", \"b\", \"d\", \"e\", \"f\", \"g\", \"h\", \"i\", \"k\", \"l\", \"m\", \"n\", \"o\", \"p\", \"q\", \"r\", \"s\", \"t\", \"u\"])\n",
    "alphabets"
   ]
  },
  {
   "cell_type": "code",
   "execution_count": 6,
   "id": "37d4dae0-217d-4240-9f84-fbe84dda5fa5",
   "metadata": {},
   "outputs": [],
   "source": [
    "# np.random.seed(seed_int)\n",
    "def get_names():\n",
    "    name = np.random.choice(alphabets, np.random.randint(low=4, high=10))\n",
    "    return humps.pascalize(\"\".join(name))"
   ]
  },
  {
   "cell_type": "code",
   "execution_count": 7,
   "id": "5dbc9ceb-7fdd-48a6-9633-87d6250b6cca",
   "metadata": {},
   "outputs": [],
   "source": [
    "def get_marks(grade):\n",
    "    low, high = dump\n",
    "    if grade == \"dump\":\n",
    "        low, high = dump\n",
    "    if grade == \"average\":\n",
    "        low, high = average\n",
    "    if grade == \"smart\":\n",
    "       low, high = smart\n",
    "    if grade == \"genius\":\n",
    "       low, high = genius\n",
    "    return np.random.randint(low=low, high=high)"
   ]
  },
  {
   "cell_type": "code",
   "execution_count": 8,
   "id": "7d314341-bc9b-4ec4-a4ed-e132ae45783f",
   "metadata": {},
   "outputs": [],
   "source": [
    "grades = np.random.choice([\"dump\", \"average\", \"smart\", \"genius\"], rows)"
   ]
  },
  {
   "cell_type": "code",
   "execution_count": 9,
   "id": "4c2a31c5-482f-432c-aa5e-b0bd1d6f895c",
   "metadata": {},
   "outputs": [],
   "source": [
    "first_names = [get_names() for _ in range(rows)]\n",
    "last_names = [get_names() for _ in range(rows)]\n",
    "english_marks = [get_marks(grade) for grade in grades]\n",
    "math_marks = [get_marks(grade) for grade in grades]"
   ]
  },
  {
   "cell_type": "code",
   "execution_count": 10,
   "id": "0c4b9fe1-dd23-4d7e-b268-7def1c623b72",
   "metadata": {},
   "outputs": [],
   "source": [
    "df = pd.DataFrame({ \"first_name\": first_names,\"last_name\": last_names, \"english\": english_marks, \"math\": math_marks, \"grade\": grades})"
   ]
  },
  {
   "cell_type": "code",
   "execution_count": 11,
   "id": "f9ebc62c-50fa-44d2-ab80-a12e68792757",
   "metadata": {},
   "outputs": [
    {
     "data": {
      "text/html": [
       "<div>\n",
       "<style scoped>\n",
       "    .dataframe tbody tr th:only-of-type {\n",
       "        vertical-align: middle;\n",
       "    }\n",
       "\n",
       "    .dataframe tbody tr th {\n",
       "        vertical-align: top;\n",
       "    }\n",
       "\n",
       "    .dataframe thead th {\n",
       "        text-align: right;\n",
       "    }\n",
       "</style>\n",
       "<table border=\"1\" class=\"dataframe\">\n",
       "  <thead>\n",
       "    <tr style=\"text-align: right;\">\n",
       "      <th></th>\n",
       "      <th>first_name</th>\n",
       "      <th>last_name</th>\n",
       "      <th>english</th>\n",
       "      <th>math</th>\n",
       "      <th>grade</th>\n",
       "      <th>percent</th>\n",
       "    </tr>\n",
       "  </thead>\n",
       "  <tbody>\n",
       "    <tr>\n",
       "      <th>0</th>\n",
       "      <td>Tpnm</td>\n",
       "      <td>Snei</td>\n",
       "      <td>88</td>\n",
       "      <td>94</td>\n",
       "      <td>genius</td>\n",
       "      <td>91.0</td>\n",
       "    </tr>\n",
       "    <tr>\n",
       "      <th>1</th>\n",
       "      <td>Rsld</td>\n",
       "      <td>Fbmhkl</td>\n",
       "      <td>73</td>\n",
       "      <td>68</td>\n",
       "      <td>smart</td>\n",
       "      <td>70.5</td>\n",
       "    </tr>\n",
       "    <tr>\n",
       "      <th>2</th>\n",
       "      <td>Asnulua</td>\n",
       "      <td>Qenhuli</td>\n",
       "      <td>93</td>\n",
       "      <td>93</td>\n",
       "      <td>genius</td>\n",
       "      <td>93.0</td>\n",
       "    </tr>\n",
       "    <tr>\n",
       "      <th>3</th>\n",
       "      <td>Haksh</td>\n",
       "      <td>Kliumsiui</td>\n",
       "      <td>11</td>\n",
       "      <td>8</td>\n",
       "      <td>dump</td>\n",
       "      <td>9.5</td>\n",
       "    </tr>\n",
       "    <tr>\n",
       "      <th>4</th>\n",
       "      <td>Gtrequll</td>\n",
       "      <td>Edtdb</td>\n",
       "      <td>21</td>\n",
       "      <td>18</td>\n",
       "      <td>dump</td>\n",
       "      <td>19.5</td>\n",
       "    </tr>\n",
       "  </tbody>\n",
       "</table>\n",
       "</div>"
      ],
      "text/plain": [
       "  first_name  last_name  english  math   grade  percent\n",
       "0       Tpnm       Snei       88    94  genius     91.0\n",
       "1       Rsld     Fbmhkl       73    68   smart     70.5\n",
       "2    Asnulua    Qenhuli       93    93  genius     93.0\n",
       "3      Haksh  Kliumsiui       11     8    dump      9.5\n",
       "4   Gtrequll      Edtdb       21    18    dump     19.5"
      ]
     },
     "execution_count": 11,
     "metadata": {},
     "output_type": "execute_result"
    }
   ],
   "source": [
    "df[\"percent\"] = (df[\"english\"] + df[\"math\"]) /2\n",
    "df.head()"
   ]
  },
  {
   "cell_type": "code",
   "execution_count": 12,
   "id": "91dff3db-064b-4b37-8ec5-008c5d81e413",
   "metadata": {},
   "outputs": [
    {
     "data": {
      "text/html": [
       "<div>\n",
       "<style scoped>\n",
       "    .dataframe tbody tr th:only-of-type {\n",
       "        vertical-align: middle;\n",
       "    }\n",
       "\n",
       "    .dataframe tbody tr th {\n",
       "        vertical-align: top;\n",
       "    }\n",
       "\n",
       "    .dataframe thead th {\n",
       "        text-align: right;\n",
       "    }\n",
       "</style>\n",
       "<table border=\"1\" class=\"dataframe\">\n",
       "  <thead>\n",
       "    <tr style=\"text-align: right;\">\n",
       "      <th></th>\n",
       "      <th>first_name</th>\n",
       "      <th>last_name</th>\n",
       "      <th>percent</th>\n",
       "    </tr>\n",
       "  </thead>\n",
       "  <tbody>\n",
       "    <tr>\n",
       "      <th>0</th>\n",
       "      <td>Tpnm</td>\n",
       "      <td>Snei</td>\n",
       "      <td>91.0</td>\n",
       "    </tr>\n",
       "    <tr>\n",
       "      <th>1</th>\n",
       "      <td>Rsld</td>\n",
       "      <td>Fbmhkl</td>\n",
       "      <td>70.5</td>\n",
       "    </tr>\n",
       "    <tr>\n",
       "      <th>2</th>\n",
       "      <td>Asnulua</td>\n",
       "      <td>Qenhuli</td>\n",
       "      <td>93.0</td>\n",
       "    </tr>\n",
       "    <tr>\n",
       "      <th>3</th>\n",
       "      <td>Haksh</td>\n",
       "      <td>Kliumsiui</td>\n",
       "      <td>9.5</td>\n",
       "    </tr>\n",
       "    <tr>\n",
       "      <th>4</th>\n",
       "      <td>Gtrequll</td>\n",
       "      <td>Edtdb</td>\n",
       "      <td>19.5</td>\n",
       "    </tr>\n",
       "  </tbody>\n",
       "</table>\n",
       "</div>"
      ],
      "text/plain": [
       "  first_name  last_name  percent\n",
       "0       Tpnm       Snei     91.0\n",
       "1       Rsld     Fbmhkl     70.5\n",
       "2    Asnulua    Qenhuli     93.0\n",
       "3      Haksh  Kliumsiui      9.5\n",
       "4   Gtrequll      Edtdb     19.5"
      ]
     },
     "execution_count": 12,
     "metadata": {},
     "output_type": "execute_result"
    }
   ],
   "source": [
    "df[[\"first_name\", \"last_name\", \"percent\"]].head()"
   ]
  },
  {
   "cell_type": "code",
   "execution_count": null,
   "id": "19ace6d4-f17a-4f84-ac50-2e3cecdd61f6",
   "metadata": {},
   "outputs": [],
   "source": []
  }
 ],
 "metadata": {
  "kernelspec": {
   "display_name": "Python 3 (ipykernel)",
   "language": "python",
   "name": "python3"
  },
  "language_info": {
   "codemirror_mode": {
    "name": "ipython",
    "version": 3
   },
   "file_extension": ".py",
   "mimetype": "text/x-python",
   "name": "python",
   "nbconvert_exporter": "python",
   "pygments_lexer": "ipython3",
   "version": "3.11.9"
  }
 },
 "nbformat": 4,
 "nbformat_minor": 5
}
