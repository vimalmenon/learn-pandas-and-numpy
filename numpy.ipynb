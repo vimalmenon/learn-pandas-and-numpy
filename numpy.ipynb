{
 "cells": [
  {
   "cell_type": "markdown",
   "id": "4818d823-0da2-43b3-8183-91fe3046e213",
   "metadata": {},
   "source": [
    "# Basic of Numpy"
   ]
  },
  {
   "cell_type": "code",
   "execution_count": 1,
   "id": "330e0e38-08bb-48cd-8e77-088f5b0e783e",
   "metadata": {},
   "outputs": [],
   "source": [
    "import numpy as np"
   ]
  },
  {
   "cell_type": "code",
   "execution_count": 2,
   "id": "6d0be5c5-e722-4db6-9cac-0cb0fb88da63",
   "metadata": {},
   "outputs": [
    {
     "data": {
      "text/plain": [
       "array([1, 2, 3, 4])"
      ]
     },
     "execution_count": 2,
     "metadata": {},
     "output_type": "execute_result"
    }
   ],
   "source": [
    "item = np.array([1,2,3,4])\n",
    "item"
   ]
  },
  {
   "cell_type": "code",
   "execution_count": 3,
   "id": "37edec77-730a-4fba-9bcb-2b51327adff1",
   "metadata": {},
   "outputs": [
    {
     "data": {
      "text/plain": [
       "dtype('int64')"
      ]
     },
     "execution_count": 3,
     "metadata": {},
     "output_type": "execute_result"
    }
   ],
   "source": [
    "item.dtype"
   ]
  },
  {
   "cell_type": "code",
   "execution_count": 4,
   "id": "62c4fd48-00b7-46fd-b84e-9c076491f02a",
   "metadata": {},
   "outputs": [
    {
     "data": {
      "text/plain": [
       "(4,)"
      ]
     },
     "execution_count": 4,
     "metadata": {},
     "output_type": "execute_result"
    }
   ],
   "source": [
    "item.shape"
   ]
  },
  {
   "cell_type": "code",
   "execution_count": 5,
   "id": "932dc00c-c9db-4634-a093-e5f7027c840a",
   "metadata": {},
   "outputs": [
    {
     "data": {
      "text/plain": [
       "4"
      ]
     },
     "execution_count": 5,
     "metadata": {},
     "output_type": "execute_result"
    }
   ],
   "source": [
    "len(item)"
   ]
  },
  {
   "cell_type": "code",
   "execution_count": 6,
   "id": "789ebce6-87ee-4dfd-8b5c-b6a73f85605c",
   "metadata": {},
   "outputs": [
    {
     "data": {
      "text/plain": [
       "array([[[99, 99, 99, 99],\n",
       "        [99, 99, 99, 99],\n",
       "        [99, 99, 99, 99]],\n",
       "\n",
       "       [[99, 99, 99, 99],\n",
       "        [99, 99, 99, 99],\n",
       "        [99, 99, 99, 99]]])"
      ]
     },
     "execution_count": 6,
     "metadata": {},
     "output_type": "execute_result"
    }
   ],
   "source": [
    "full = np.full((2,3,4), 99)\n",
    "full"
   ]
  },
  {
   "cell_type": "code",
   "execution_count": 7,
   "id": "76abf5c6-21b5-4ba7-9f40-72db6f73ee72",
   "metadata": {},
   "outputs": [
    {
     "data": {
      "text/plain": [
       "array([[0., 0., 0.],\n",
       "       [0., 0., 0.]])"
      ]
     },
     "execution_count": 7,
     "metadata": {},
     "output_type": "execute_result"
    }
   ],
   "source": [
    "zeros = np.zeros((2,3))\n",
    "zeros"
   ]
  },
  {
   "cell_type": "code",
   "execution_count": 8,
   "id": "b91b2bf1-cbe5-489e-8882-63a1143611e4",
   "metadata": {},
   "outputs": [
    {
     "data": {
      "text/plain": [
       "array([[1., 1., 1.],\n",
       "       [1., 1., 1.]])"
      ]
     },
     "execution_count": 8,
     "metadata": {},
     "output_type": "execute_result"
    }
   ],
   "source": [
    "ones = np.ones((2,3))\n",
    "ones"
   ]
  },
  {
   "cell_type": "code",
   "execution_count": 9,
   "id": "9f75c76f-c731-4115-b357-4a1c4b0c10ab",
   "metadata": {},
   "outputs": [
    {
     "data": {
      "text/plain": [
       "array([[0., 0.],\n",
       "       [0., 0.]])"
      ]
     },
     "execution_count": 9,
     "metadata": {},
     "output_type": "execute_result"
    }
   ],
   "source": [
    "empty = np.empty((2,2))\n",
    "empty"
   ]
  },
  {
   "cell_type": "code",
   "execution_count": 10,
   "id": "5206774a-e7bc-4e78-9dcd-44eae5293a54",
   "metadata": {},
   "outputs": [
    {
     "data": {
      "text/plain": [
       "array([ 0,  5, 10, 15, 20, 25, 30, 35, 40, 45, 50, 55, 60, 65, 70, 75, 80,\n",
       "       85, 90, 95])"
      ]
     },
     "execution_count": 10,
     "metadata": {},
     "output_type": "execute_result"
    }
   ],
   "source": [
    "arange = np.arange(0, 100, 5)\n",
    "arange"
   ]
  },
  {
   "cell_type": "code",
   "execution_count": 11,
   "id": "c7aa299f-deae-4d94-80c1-eeb1746f66ec",
   "metadata": {},
   "outputs": [
    {
     "data": {
      "text/plain": [
       "array([  0,   5,  10,  15,  21,  26,  31,  36,  42,  47,  52,  57,  63,\n",
       "        68,  73,  78,  84,  89,  94, 100])"
      ]
     },
     "execution_count": 11,
     "metadata": {},
     "output_type": "execute_result"
    }
   ],
   "source": [
    "linspace = np.linspace(0, 100, 20,dtype=\"int\")\n",
    "linspace"
   ]
  },
  {
   "cell_type": "code",
   "execution_count": 12,
   "id": "01ad686d-a9b1-4406-b713-71c913631270",
   "metadata": {},
   "outputs": [],
   "source": [
    "nan = np.nan"
   ]
  },
  {
   "cell_type": "code",
   "execution_count": 13,
   "id": "18167d05-76af-4b80-8175-f271a3e2a844",
   "metadata": {},
   "outputs": [],
   "source": [
    "inf = np.inf"
   ]
  },
  {
   "cell_type": "code",
   "execution_count": 14,
   "id": "e432fb78-fbab-4e37-8ba5-8e946edc2578",
   "metadata": {},
   "outputs": [
    {
     "data": {
      "text/plain": [
       "True"
      ]
     },
     "execution_count": 14,
     "metadata": {},
     "output_type": "execute_result"
    }
   ],
   "source": [
    "np.isnan(nan)"
   ]
  },
  {
   "cell_type": "code",
   "execution_count": 15,
   "id": "6224abff-1a65-4d09-ab54-9f200f4cb56b",
   "metadata": {},
   "outputs": [
    {
     "data": {
      "text/plain": [
       "True"
      ]
     },
     "execution_count": 15,
     "metadata": {},
     "output_type": "execute_result"
    }
   ],
   "source": [
    "np.isinf(inf)"
   ]
  },
  {
   "cell_type": "code",
   "execution_count": 16,
   "id": "a79df065-da3f-40b5-ac86-7eb0d6f3d9c5",
   "metadata": {},
   "outputs": [],
   "source": [
    "item = np.array([1,2,3])"
   ]
  },
  {
   "cell_type": "code",
   "execution_count": 17,
   "id": "4a91cf28-1238-499d-b839-9e257466bb8b",
   "metadata": {},
   "outputs": [
    {
     "data": {
      "text/plain": [
       "array([ 5, 10, 15])"
      ]
     },
     "execution_count": 17,
     "metadata": {},
     "output_type": "execute_result"
    }
   ],
   "source": [
    "item*5"
   ]
  },
  {
   "cell_type": "code",
   "execution_count": 18,
   "id": "d14faad9-23ff-462b-a62a-d80490486d95",
   "metadata": {},
   "outputs": [
    {
     "data": {
      "text/plain": [
       "array([6, 7, 8])"
      ]
     },
     "execution_count": 18,
     "metadata": {},
     "output_type": "execute_result"
    }
   ],
   "source": [
    "item+5"
   ]
  },
  {
   "cell_type": "code",
   "execution_count": 19,
   "id": "2476beea-7d39-4dbe-88d5-8e43ab9b85a9",
   "metadata": {},
   "outputs": [
    {
     "data": {
      "text/plain": [
       "array([1, 2, 3])"
      ]
     },
     "execution_count": 19,
     "metadata": {},
     "output_type": "execute_result"
    }
   ],
   "source": [
    "item1 = np.array([1,2,3])\n",
    "item1"
   ]
  },
  {
   "cell_type": "code",
   "execution_count": 20,
   "id": "0dbd793a-7605-427f-a71f-131a5c4dae31",
   "metadata": {},
   "outputs": [
    {
     "data": {
      "text/plain": [
       "array([2, 4, 6])"
      ]
     },
     "execution_count": 20,
     "metadata": {},
     "output_type": "execute_result"
    }
   ],
   "source": [
    "item1 + item"
   ]
  },
  {
   "cell_type": "code",
   "execution_count": 21,
   "id": "83a6bf2e-467d-4857-bff6-f491c13307fe",
   "metadata": {},
   "outputs": [
    {
     "data": {
      "text/plain": [
       "2.0"
      ]
     },
     "execution_count": 21,
     "metadata": {},
     "output_type": "execute_result"
    }
   ],
   "source": [
    "np.sqrt(4)"
   ]
  },
  {
   "cell_type": "code",
   "execution_count": 22,
   "id": "ccf32a94-fa0a-43ea-8f58-179cc43fac90",
   "metadata": {},
   "outputs": [
    {
     "data": {
      "text/plain": [
       "array([1.        , 1.41421356, 1.73205081])"
      ]
     },
     "execution_count": 22,
     "metadata": {},
     "output_type": "execute_result"
    }
   ],
   "source": [
    "np.sqrt(item)"
   ]
  },
  {
   "cell_type": "code",
   "execution_count": 23,
   "id": "9f9bbea6-e8a1-4aae-8d13-4109b0b8764d",
   "metadata": {},
   "outputs": [
    {
     "data": {
      "text/plain": [
       "array([1, 2, 3, 4, 5, 6])"
      ]
     },
     "execution_count": 23,
     "metadata": {},
     "output_type": "execute_result"
    }
   ],
   "source": [
    "item = np.append(item, [4,5,6])\n",
    "item"
   ]
  },
  {
   "cell_type": "code",
   "execution_count": 24,
   "id": "4ecb68d5-16ab-49b5-806d-12cb1fbda57d",
   "metadata": {},
   "outputs": [
    {
     "data": {
      "text/plain": [
       "array([2, 3, 4, 5, 6])"
      ]
     },
     "execution_count": 24,
     "metadata": {},
     "output_type": "execute_result"
    }
   ],
   "source": [
    "np.delete(item, 0, 0)"
   ]
  },
  {
   "cell_type": "code",
   "execution_count": 25,
   "id": "d4030f7a-3caf-4527-9b9a-536414a08759",
   "metadata": {},
   "outputs": [
    {
     "data": {
      "text/plain": [
       "array([1, 3, 4, 5, 6])"
      ]
     },
     "execution_count": 25,
     "metadata": {},
     "output_type": "execute_result"
    }
   ],
   "source": [
    "np.delete(item, 1)"
   ]
  },
  {
   "cell_type": "code",
   "execution_count": 26,
   "id": "5459a537-6e1c-41c9-a564-dfd0a782862f",
   "metadata": {},
   "outputs": [],
   "source": [
    "reshaped = item.reshape([2,1,3])"
   ]
  },
  {
   "cell_type": "code",
   "execution_count": 27,
   "id": "efbb10f1-a124-4a29-809c-5ab7749f41dc",
   "metadata": {},
   "outputs": [
    {
     "data": {
      "text/plain": [
       "array([1, 2, 3, 4, 5, 6])"
      ]
     },
     "execution_count": 27,
     "metadata": {},
     "output_type": "execute_result"
    }
   ],
   "source": [
    "reshaped.flatten()"
   ]
  },
  {
   "cell_type": "code",
   "execution_count": 28,
   "id": "723ca5e5-863c-439f-a522-5a98fe972975",
   "metadata": {},
   "outputs": [
    {
     "data": {
      "text/plain": [
       "array([1, 2, 3, 4, 5, 6])"
      ]
     },
     "execution_count": 28,
     "metadata": {},
     "output_type": "execute_result"
    }
   ],
   "source": [
    "reshaped.ravel()"
   ]
  },
  {
   "cell_type": "code",
   "execution_count": 29,
   "id": "81711c46-26c9-4fd9-ae33-4e845c2639eb",
   "metadata": {},
   "outputs": [
    {
     "data": {
      "text/plain": [
       "array([[[1, 4]],\n",
       "\n",
       "       [[2, 5]],\n",
       "\n",
       "       [[3, 6]]])"
      ]
     },
     "execution_count": 29,
     "metadata": {},
     "output_type": "execute_result"
    }
   ],
   "source": [
    "reshaped.transpose()"
   ]
  },
  {
   "cell_type": "code",
   "execution_count": 30,
   "id": "b46d083a-2585-40b2-b427-2c1794a25f2c",
   "metadata": {},
   "outputs": [
    {
     "data": {
      "text/plain": [
       "array([[[1, 4]],\n",
       "\n",
       "       [[2, 5]],\n",
       "\n",
       "       [[3, 6]]])"
      ]
     },
     "execution_count": 30,
     "metadata": {},
     "output_type": "execute_result"
    }
   ],
   "source": [
    "reshaped.T"
   ]
  },
  {
   "cell_type": "code",
   "execution_count": 31,
   "id": "b48258a2-0293-42a2-9ae7-bc296b92bf67",
   "metadata": {},
   "outputs": [
    {
     "data": {
      "text/plain": [
       "array([[[1, 2, 3]],\n",
       "\n",
       "       [[4, 5, 6]]])"
      ]
     },
     "execution_count": 31,
     "metadata": {},
     "output_type": "execute_result"
    }
   ],
   "source": [
    "reshaped"
   ]
  },
  {
   "cell_type": "code",
   "execution_count": 32,
   "id": "38db6828-73d4-444f-bf2a-fb06cf92d8c7",
   "metadata": {},
   "outputs": [
    {
     "data": {
      "text/plain": [
       "array([ 1,  2,  3,  4,  5,  6,  5, 10, 15, 20, 25, 30])"
      ]
     },
     "execution_count": 32,
     "metadata": {},
     "output_type": "execute_result"
    }
   ],
   "source": [
    "new_item = item*5\n",
    "new_item = np.concatenate((item,new_item))\n",
    "new_item"
   ]
  },
  {
   "cell_type": "code",
   "execution_count": 33,
   "id": "f955ebf4-93d4-413c-8341-5d63b8f1b495",
   "metadata": {},
   "outputs": [
    {
     "data": {
      "text/plain": [
       "[array([1, 2, 3, 4, 5, 6]), array([ 5, 10, 15, 20, 25, 30])]"
      ]
     },
     "execution_count": 33,
     "metadata": {},
     "output_type": "execute_result"
    }
   ],
   "source": [
    "np.split(new_item, 2, axis=0)"
   ]
  },
  {
   "cell_type": "code",
   "execution_count": 34,
   "id": "8fba5c8a-0e5b-4569-98cf-10999d6a3047",
   "metadata": {},
   "outputs": [
    {
     "data": {
      "text/plain": [
       "array([[48,  7, 52, 83],\n",
       "       [60, 87, 98, 53]])"
      ]
     },
     "execution_count": 34,
     "metadata": {},
     "output_type": "execute_result"
    }
   ],
   "source": [
    "np.random.randint(100, size=(2,4))"
   ]
  },
  {
   "cell_type": "code",
   "execution_count": 35,
   "id": "ef0d31e5-ff67-45ea-9ad3-97cee17cac4f",
   "metadata": {},
   "outputs": [
    {
     "data": {
      "text/plain": [
       "array([4, 2, 3, 3, 4, 2, 4, 4, 2, 4])"
      ]
     },
     "execution_count": 35,
     "metadata": {},
     "output_type": "execute_result"
    }
   ],
   "source": [
    "np.random.randint(1,5, size=(10))"
   ]
  },
  {
   "cell_type": "code",
   "execution_count": 36,
   "id": "38126f18-62e5-413b-80e4-ee8f355468f6",
   "metadata": {},
   "outputs": [
    {
     "data": {
      "text/plain": [
       "array([ True,  True, False, False, False, False, False,  True, False,\n",
       "       False])"
      ]
     },
     "execution_count": 36,
     "metadata": {},
     "output_type": "execute_result"
    }
   ],
   "source": [
    "np.random.choice([True, False], size=(10))"
   ]
  }
 ],
 "metadata": {
  "kernelspec": {
   "display_name": "Python 3 (ipykernel)",
   "language": "python",
   "name": "python3"
  },
  "language_info": {
   "codemirror_mode": {
    "name": "ipython",
    "version": 3
   },
   "file_extension": ".py",
   "mimetype": "text/x-python",
   "name": "python",
   "nbconvert_exporter": "python",
   "pygments_lexer": "ipython3",
   "version": "3.11.9"
  }
 },
 "nbformat": 4,
 "nbformat_minor": 5
}
